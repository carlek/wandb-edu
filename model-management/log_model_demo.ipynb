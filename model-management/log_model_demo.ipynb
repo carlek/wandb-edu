{
 "cells": [
  {
   "cell_type": "markdown",
   "id": "6b62fd49",
   "metadata": {},
   "source": [
    "<a href=\"https://colab.research.google.com/github/wandb/edu/blob/main/model-management/log_model_demo.ipynb\" target=\"_parent\"><img src=\"https://colab.research.google.com/assets/colab-badge.svg\" alt=\"Open In Colab\"/></a>\n",
    "<!--- @wandbcode{emm-1} -->"
   ]
  },
  {
   "cell_type": "code",
   "execution_count": null,
   "id": "35c6b68b-b6d2-4821-9a12-e941b4233bdf",
   "metadata": {},
   "outputs": [],
   "source": [
    "%%capture\n",
    "!pip install -U wandb"
   ]
  },
  {
   "cell_type": "code",
   "execution_count": null,
   "id": "38e53c64-c229-43bf-acda-21df94797033",
   "metadata": {},
   "outputs": [],
   "source": [
    "import wandb\n",
    "\n",
    "# Initialize a wandb run\n",
    "wandb.init(project='model_registry_demo')\n",
    "\n",
    "# Create a dummy model file (this could be replaced with your actual model file)\n",
    "model_path = 'dummy_model.txt'\n",
    "with open(model_path, 'w') as file:\n",
    "    file.write('This is a dummy model file.')\n",
    "\n",
    "# Log the model to WandB\n",
    "wandb.log_model(name=f\"model-{wandb.run.id}\", path=model_path, aliases=[\"best\", \"dev\"])"
   ]
  },
  {
   "cell_type": "code",
   "execution_count": null,
   "id": "03d8f07b-cb2a-4a50-8d1a-d079213bd4b7",
   "metadata": {},
   "outputs": [],
   "source": [
    "# Link the best model to the W&B Model Registry (e.g. after the training is finished)\n",
    "artifact_name = f\"model-{wandb.run.id}:best\"\n",
    "best_model_path = wandb.use_model(artifact_name)\n",
    "\n",
    "# Link the best model to the registry\n",
    "wandb.link_model(path=best_model_path,\n",
    "                 registered_model_name=\"My_ML_Task\",\n",
    "                 aliases=[\"staging\"])"
   ]
  },
  {
   "cell_type": "code",
   "execution_count": null,
   "id": "7807735b-1102-4142-81ea-08f2f42917fe",
   "metadata": {},
   "outputs": [],
   "source": [
    "wandb.finish()"
   ]
  },
  {
   "cell_type": "code",
   "execution_count": null,
   "id": "774f5a75-70b2-4ce5-80b2-f015a73ab49e",
   "metadata": {},
   "outputs": [],
   "source": []
  }
 ],
 "metadata": {
  "kernelspec": {
   "display_name": "Python 3 (ipykernel)",
   "language": "python",
   "name": "python3"
  },
  "language_info": {
   "codemirror_mode": {
    "name": "ipython",
    "version": 3
   },
   "file_extension": ".py",
   "mimetype": "text/x-python",
   "name": "python",
   "nbconvert_exporter": "python",
   "pygments_lexer": "ipython3",
   "version": "3.9.7"
  }
 },
 "nbformat": 4,
 "nbformat_minor": 5
}
