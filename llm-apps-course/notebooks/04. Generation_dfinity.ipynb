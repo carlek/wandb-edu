{
 "cells": [
  {
   "attachments": {},
   "cell_type": "markdown",
   "metadata": {},
   "source": [
    "<a href=\"https://colab.research.google.com/github/wandb/edu/blob/main/llm-apps-course/notebooks/02.%20Generation.ipynb\" target=\"_parent\"><img src=\"https://colab.research.google.com/assets/colab-badge.svg\" alt=\"Open In Colab\"/></a>\n",
    "<!--- @wandbcode{llmapps-generation} -->"
   ]
  },
  {
   "attachments": {},
   "cell_type": "markdown",
   "metadata": {},
   "source": [
    "# Generation\n",
    "<!--- @wandbcode{llmapps-generation} -->\n",
    "\n",
    "In this notebook we will dive deeper on prompting the model by passing a better context by using available data from users questions and using the documentation files to generate better answers.\n"
   ]
  },
  {
   "attachments": {},
   "cell_type": "markdown",
   "metadata": {},
   "source": [
    "### Setup"
   ]
  },
  {
   "cell_type": "code",
   "execution_count": 1,
   "metadata": {},
   "outputs": [
    {
     "name": "stdout",
     "output_type": "stream",
     "text": [
      "Note: you may need to restart the kernel to use updated packages.\n"
     ]
    }
   ],
   "source": [
    "%pip install -Uqqq pandas rich openai tiktoken wandb tenacity"
   ]
  },
  {
   "cell_type": "code",
   "execution_count": 2,
   "metadata": {},
   "outputs": [],
   "source": [
    "import os\n",
    "import random\n",
    "\n",
    "import openai\n",
    "import tiktoken\n",
    "\n",
    "from pathlib import Path\n",
    "from pprint import pprint\n",
    "from getpass import getpass\n",
    "\n",
    "from rich.markdown import Markdown\n",
    "import pandas as pd\n",
    "from tenacity import (\n",
    "    retry,\n",
    "    stop_after_attempt,\n",
    "    wait_random_exponential, # for exponential backoff\n",
    ")  \n",
    "import wandb\n",
    "from wandb.integration.openai import autolog"
   ]
  },
  {
   "attachments": {},
   "cell_type": "markdown",
   "metadata": {},
   "source": [
    "You will need an OpenAI API key to run this notebook. You can get one [here](https://platform.openai.com/account/api-keys)."
   ]
  },
  {
   "cell_type": "code",
   "execution_count": 3,
   "metadata": {},
   "outputs": [
    {
     "name": "stdout",
     "output_type": "stream",
     "text": [
      "OpenAI API key configured\n"
     ]
    }
   ],
   "source": [
    "if os.getenv(\"OPENAI_API_KEY\") is None:\n",
    "  if any(['VSCODE' in x for x in os.environ.keys()]):\n",
    "    print('Please enter password in the VS Code prompt at the top of your VS Code window!')\n",
    "  os.environ[\"OPENAI_API_KEY\"] = getpass(\"Paste your OpenAI key from: https://platform.openai.com/account/api-keys\\n\")\n",
    "  openai.api_key = os.getenv(\"OPENAI_API_KEY\", \"\")\n",
    "\n",
    "assert os.getenv(\"OPENAI_API_KEY\", \"\").startswith(\"sk-\"), \"This doesn't look like a valid OpenAI API key\"\n",
    "print(\"OpenAI API key configured\")"
   ]
  },
  {
   "attachments": {},
   "cell_type": "markdown",
   "metadata": {},
   "source": [
    "Let's enable W&B autologging to track our experiments."
   ]
  },
  {
   "cell_type": "code",
   "execution_count": 4,
   "metadata": {},
   "outputs": [
    {
     "name": "stderr",
     "output_type": "stream",
     "text": [
      "\u001b[34m\u001b[1mwandb\u001b[0m: Currently logged in as: \u001b[33mcarlek\u001b[0m. Use \u001b[1m`wandb login --relogin`\u001b[0m to force relogin\n"
     ]
    },
    {
     "data": {
      "text/html": [
       "Tracking run with wandb version 0.15.12"
      ],
      "text/plain": [
       "<IPython.core.display.HTML object>"
      ]
     },
     "metadata": {},
     "output_type": "display_data"
    },
    {
     "data": {
      "text/html": [
       "Run data is saved locally in <code>/Users/carlek/mygit/wandb-edu/llm-apps-course/notebooks/wandb/run-20231012_154657-4zg3az9n</code>"
      ],
      "text/plain": [
       "<IPython.core.display.HTML object>"
      ]
     },
     "metadata": {},
     "output_type": "display_data"
    },
    {
     "data": {
      "text/html": [
       "Syncing run <strong><a href='https://wandb.ai/carlek/llmapps/runs/4zg3az9n' target=\"_blank\">charmed-star-59</a></strong> to <a href='https://wandb.ai/carlek/llmapps' target=\"_blank\">Weights & Biases</a> (<a href='https://wandb.me/run' target=\"_blank\">docs</a>)<br/>"
      ],
      "text/plain": [
       "<IPython.core.display.HTML object>"
      ]
     },
     "metadata": {},
     "output_type": "display_data"
    },
    {
     "data": {
      "text/html": [
       " View project at <a href='https://wandb.ai/carlek/llmapps' target=\"_blank\">https://wandb.ai/carlek/llmapps</a>"
      ],
      "text/plain": [
       "<IPython.core.display.HTML object>"
      ]
     },
     "metadata": {},
     "output_type": "display_data"
    },
    {
     "data": {
      "text/html": [
       " View run at <a href='https://wandb.ai/carlek/llmapps/runs/4zg3az9n' target=\"_blank\">https://wandb.ai/carlek/llmapps/runs/4zg3az9n</a>"
      ],
      "text/plain": [
       "<IPython.core.display.HTML object>"
      ]
     },
     "metadata": {},
     "output_type": "display_data"
    }
   ],
   "source": [
    "# start logging to W&B\n",
    "os.environ['WANDB_NOTEBOOK_NAME'] = \"04. Generation_dfinity.ipynb\"\n",
    "autolog({\"project\":\"llmapps\", \"job_type\": \"generation\"})"
   ]
  },
  {
   "attachments": {},
   "cell_type": "markdown",
   "metadata": {},
   "source": [
    "# Generating synthetic support questions"
   ]
  },
  {
   "attachments": {},
   "cell_type": "markdown",
   "metadata": {},
   "source": [
    "We will add a retry behavior in case we hit the API rate limit"
   ]
  },
  {
   "cell_type": "code",
   "execution_count": 5,
   "metadata": {},
   "outputs": [],
   "source": [
    "@retry(wait=wait_random_exponential(min=1, max=60), stop=stop_after_attempt(6))\n",
    "def completion_with_backoff(**kwargs):\n",
    "    return openai.ChatCompletion.create(**kwargs)"
   ]
  },
  {
   "cell_type": "code",
   "execution_count": 7,
   "metadata": {},
   "outputs": [],
   "source": [
    "MODEL_NAME = \"gpt-3.5-turbo\"\n",
    "# MODEL_NAME = \"gpt-4\""
   ]
  },
  {
   "cell_type": "code",
   "execution_count": 8,
   "metadata": {},
   "outputs": [
    {
     "name": "stdout",
     "output_type": "stream",
     "text": [
      "['\"How can I ensure the security of smart contract code on the Internet '\n",
      " 'Computer Platform (ICP) before deployment?\"',\n",
      " '\"Is there a recommended approach or library for handling user authentication '\n",
      " 'on the ICP platform?\"',\n",
      " '\"How can I debug and troubleshoot issues with smart contracts on the '\n",
      " 'Internet Computer Platform (ICP)?\"',\n",
      " '\"What are the best practices for developing smart contracts on the ICP '\n",
      " 'platform?\"',\n",
      " '\"Can you provide guidance on how to securely deploy and access canister '\n",
      " 'smart contracts on the Internet Computer Platform (ICP)?\"']\n"
     ]
    }
   ],
   "source": [
    "\n",
    "def generate_responses(system_prompt, user_prompt, debug=False, n=5):\n",
    "    messages=[\n",
    "            {\"role\": \"system\", \"content\": system_prompt},\n",
    "            {\"role\": \"user\", \"content\": user_prompt},\n",
    "        ]\n",
    "    responses = completion_with_backoff(\n",
    "        model=MODEL_NAME,\n",
    "        messages=messages,\n",
    "        n = n,\n",
    "        )\n",
    "    generations = []\n",
    "    for response in responses.choices:\n",
    "        generation = response.message.content\n",
    "        if debug:\n",
    "            display(Markdown(generation))\n",
    "        generations.append(generation)\n",
    "    return generations\n",
    "\n",
    "system_prompt = \"You are a helpful assistant.\"\n",
    "user_prompt = \"Generate a support question from a developer on Dfinity's Internet Computer Platform (ICP)\"\n",
    "\n",
    "# user_prompt = \"Generate support questions from developers of web-applications for Dfinity's platform on the Internet Computer Platform (ICP) for the following topics: the Motoko language, the Canister SDK, and the ICP API. Generate 1 question for each topic. Do not generate the topic in the result.  Do not enumerate anything in the result. The response should only contain the questions, with each question on a separate line.  And do not generate any blank lines\"\n",
    "\n",
    "user_questions = generate_responses(system_prompt, user_prompt, n=5)\n",
    "user_questions = [q for q in user_questions if q != '']\n",
    "pprint(user_questions)\n"
   ]
  },
  {
   "attachments": {},
   "cell_type": "markdown",
   "metadata": {},
   "source": [
    "# Few Shot "
   ]
  },
  {
   "attachments": {},
   "cell_type": "markdown",
   "metadata": {},
   "source": [
    "Let's read some user submitted queries from the file `examples.txt`. This file contains multiline questions separated by tabs (`\\t`)."
   ]
  },
  {
   "cell_type": "code",
   "execution_count": 9,
   "metadata": {},
   "outputs": [],
   "source": [
    "# Test if examples.txt is present, download if not\n",
    "if not Path(\"examples_dfx.txt\").exists():\n",
    "    !wget https://raw.githubusercontent.com/carlek/wandb-edu/main/llm-apps-course/notebooks/examples_dfx.txt"
   ]
  },
  {
   "cell_type": "code",
   "execution_count": 10,
   "metadata": {},
   "outputs": [
    {
     "name": "stdout",
     "output_type": "stream",
     "text": [
      "'We have 8 real queries:'\n"
     ]
    },
    {
     "data": {
      "text/html": [
       "<pre style=\"white-space:pre;overflow-x:auto;line-height:normal;font-family:Menlo,'DejaVu Sans Mono',consolas,'Courier New',monospace\">Sample one: \"\"                                                                                                     \n",
       "</pre>\n"
      ],
      "text/plain": [
       "Sample one: \"\"                                                                                                     \n"
      ]
     },
     "execution_count": 10,
     "metadata": {},
     "output_type": "execute_result"
    }
   ],
   "source": [
    "delimiter = \"\\n\" # new lines separate queries\n",
    "with open(\"examples_dfx.txt\", \"r\") as file:\n",
    "    data = file.read()\n",
    "    real_queries = data.split(delimiter)\n",
    "\n",
    "pprint(f\"We have {len(real_queries)} real queries:\")  \n",
    "Markdown(f\"Sample one: \\n\\\"{random.choice(real_queries)}\\\"\")\n",
    "\n"
   ]
  },
  {
   "attachments": {},
   "cell_type": "markdown",
   "metadata": {},
   "source": [
    "We can now use those real user questions to guide our model to produce synthetic questions like those."
   ]
  },
  {
   "cell_type": "code",
   "execution_count": 11,
   "metadata": {},
   "outputs": [
    {
     "name": "stdout",
     "output_type": "stream",
     "text": [
      "['\"How can I ensure the security of smart contract code on the Internet '\n",
      " 'Computer Platform (ICP) before deployment?\"',\n",
      " '\"Is there a recommended approach or library for handling user authentication '\n",
      " 'on the ICP platform?\"',\n",
      " '\"How can I debug and troubleshoot issues with smart contracts on the '\n",
      " 'Internet Computer Platform (ICP)?\"',\n",
      " '\"What are the best practices for developing smart contracts on the ICP '\n",
      " 'platform?\"',\n",
      " '\"Can you provide guidance on how to securely deploy and access canister '\n",
      " 'smart contracts on the Internet Computer Platform (ICP)?\"']\n"
     ]
    }
   ],
   "source": [
    "pprint(user_questions)"
   ]
  },
  {
   "cell_type": "code",
   "execution_count": 13,
   "metadata": {},
   "outputs": [
    {
     "data": {
      "text/html": [
       "<pre style=\"white-space:pre;overflow-x:auto;line-height:normal;font-family:Menlo,'DejaVu Sans Mono',consolas,'Courier New',monospace\">Generate a support question from a developer on Dfinity's Internet Computer Platform (ICP). Below you will find a  \n",
       "few examples of real user queries: \"Can you provide guidance on how to securely deploy and access canister smart   \n",
       "contracts on the Internet Computer Platform (ICP)?\" \"How can I ensure the security of smart contract code on the   \n",
       "Internet Computer Platform (ICP) before deployment?\" \"Is there a recommended approach or library for handling user \n",
       "authentication on the ICP platform?\" Let's start!                                                                  \n",
       "</pre>\n"
      ],
      "text/plain": [
       "Generate a support question from a developer on Dfinity's Internet Computer Platform (ICP). Below you will find a  \n",
       "few examples of real user queries: \"Can you provide guidance on how to securely deploy and access canister smart   \n",
       "contracts on the Internet Computer Platform (ICP)?\" \"How can I ensure the security of smart contract code on the   \n",
       "Internet Computer Platform (ICP) before deployment?\" \"Is there a recommended approach or library for handling user \n",
       "authentication on the ICP platform?\" Let's start!                                                                  \n"
      ]
     },
     "execution_count": 13,
     "metadata": {},
     "output_type": "execute_result"
    }
   ],
   "source": [
    "def generate_few_shot_prompt(queries, n=3):\n",
    "    prompt = \"Generate a support question from a developer on Dfinity's Internet Computer Platform (ICP). \\n\" +\\\n",
    "        \"Below you will find a few examples of real user queries:\\n\"\n",
    "    for _ in range(n):\n",
    "        pick = random.choice(queries)\n",
    "        prompt += pick + \"\\n\"\n",
    "    prompt += \"Let's start!\"\n",
    "    return prompt\n",
    "\n",
    "generation_prompt = generate_few_shot_prompt(user_questions)\n",
    "Markdown(generation_prompt)\n"
   ]
  },
  {
   "attachments": {},
   "cell_type": "markdown",
   "metadata": {},
   "source": [
    "OpenAI `Chat` models are really good at following instructions with a few examples. Let's see how it does here. This is going to use some context from the prompt."
   ]
  },
  {
   "cell_type": "code",
   "execution_count": 14,
   "metadata": {},
   "outputs": [
    {
     "data": {
      "text/html": [
       "<pre style=\"white-space:pre;overflow-x:auto;line-height:normal;font-family:Menlo,'DejaVu Sans Mono',consolas,'Courier New',monospace\">\"How do I handle state changes in canister smart contracts on the Internet Computer Platform (ICP)?\"               \n",
       "</pre>\n"
      ],
      "text/plain": [
       "\"How do I handle state changes in canister smart contracts on the Internet Computer Platform (ICP)?\"               \n"
      ]
     },
     "metadata": {},
     "output_type": "display_data"
    },
    {
     "data": {
      "text/html": [
       "<pre style=\"white-space:pre;overflow-x:auto;line-height:normal;font-family:Menlo,'DejaVu Sans Mono',consolas,'Courier New',monospace\">\"What are the best practices for managing canister upgrades on the Internet Computer Platform (ICP) to ensure a    \n",
       "smooth and secure transition without disrupting the user experience?\"                                              \n",
       "</pre>\n"
      ],
      "text/plain": [
       "\"What are the best practices for managing canister upgrades on the Internet Computer Platform (ICP) to ensure a    \n",
       "smooth and secure transition without disrupting the user experience?\"                                              \n"
      ]
     },
     "metadata": {},
     "output_type": "display_data"
    },
    {
     "data": {
      "text/html": [
       "<pre style=\"white-space:pre;overflow-x:auto;line-height:normal;font-family:Menlo,'DejaVu Sans Mono',consolas,'Courier New',monospace\">\"Is it possible to set up an automated testing framework for canister smart contracts on the Internet Computer     \n",
       "Platform (ICP)?\"                                                                                                   \n",
       "</pre>\n"
      ],
      "text/plain": [
       "\"Is it possible to set up an automated testing framework for canister smart contracts on the Internet Computer     \n",
       "Platform (ICP)?\"                                                                                                   \n"
      ]
     },
     "metadata": {},
     "output_type": "display_data"
    },
    {
     "data": {
      "text/html": [
       "<pre style=\"white-space:pre;overflow-x:auto;line-height:normal;font-family:Menlo,'DejaVu Sans Mono',consolas,'Courier New',monospace\">\"Is there a recommended method or tool to monitor and manage canister performance and resource consumption on the  \n",
       "Internet Computer Platform (ICP)?\"                                                                                 \n",
       "</pre>\n"
      ],
      "text/plain": [
       "\"Is there a recommended method or tool to monitor and manage canister performance and resource consumption on the  \n",
       "Internet Computer Platform (ICP)?\"                                                                                 \n"
      ]
     },
     "metadata": {},
     "output_type": "display_data"
    },
    {
     "data": {
      "text/html": [
       "<pre style=\"white-space:pre;overflow-x:auto;line-height:normal;font-family:Menlo,'DejaVu Sans Mono',consolas,'Courier New',monospace\">\"What are the best practices for optimizing and improving the performance of canister smart contracts on the       \n",
       "Internet Computer Platform (ICP)?\"                                                                                 \n",
       "</pre>\n"
      ],
      "text/plain": [
       "\"What are the best practices for optimizing and improving the performance of canister smart contracts on the       \n",
       "Internet Computer Platform (ICP)?\"                                                                                 \n"
      ]
     },
     "metadata": {},
     "output_type": "display_data"
    }
   ],
   "source": [
    "def generate_and_print(system_prompt, user_prompt, n=5):\n",
    "    messages=[\n",
    "            {\"role\": \"system\", \"content\": system_prompt},\n",
    "            {\"role\": \"user\", \"content\": user_prompt},\n",
    "        ]\n",
    "    responses = completion_with_backoff(\n",
    "        model=MODEL_NAME,\n",
    "        messages=messages,\n",
    "        n = n,\n",
    "        )\n",
    "    for response in responses.choices:\n",
    "        generation = response.message.content\n",
    "        display(Markdown(generation))\n",
    "\n",
    "generate_and_print(system_prompt, user_prompt=generation_prompt)\n",
    "\n",
    "# support_answers = generate_responses(system_prompt, user_prompt=generation_prompt)\n",
    "# pprint(support_answers)"
   ]
  },
  {
   "attachments": {},
   "cell_type": "markdown",
   "metadata": {},
   "source": [
    "# Add Context & Response"
   ]
  },
  {
   "attachments": {},
   "cell_type": "markdown",
   "metadata": {},
   "source": [
    "Let's create a function to find all the markdown files in a directory and return it's content and path"
   ]
  },
  {
   "cell_type": "code",
   "execution_count": 15,
   "metadata": {},
   "outputs": [],
   "source": [
    "# check if directory exists, if not, create it and download the files, e.g if running in colab\n",
    "if not os.path.exists(\"../dfinity_md/\"):\n",
    "  !git clone https://github.com/carlek/dfinity-web-development\n",
    "  !cp -r *.md ../dfinity_md"
   ]
  },
  {
   "cell_type": "code",
   "execution_count": 16,
   "metadata": {},
   "outputs": [
    {
     "data": {
      "text/plain": [
       "5"
      ]
     },
     "execution_count": 16,
     "metadata": {},
     "output_type": "execute_result"
    }
   ],
   "source": [
    "def find_md_files(directory):\n",
    "    \"Find all markdown files in a directory and return their content and path\"\n",
    "    md_files = []\n",
    "    for file in Path(directory).rglob(\"*.md\"):\n",
    "        with open(file, 'r', encoding='utf-8') as md_file:\n",
    "            content = md_file.read()\n",
    "        md_files.append((file.relative_to(directory), content))\n",
    "    return md_files\n",
    "\n",
    "documents = find_md_files('../dfinity_md/')\n",
    "len(documents)"
   ]
  },
  {
   "attachments": {},
   "cell_type": "markdown",
   "metadata": {},
   "source": [
    "Let's check if the documents are not too long for our context window. We need to compute the number of tokens in each document."
   ]
  },
  {
   "cell_type": "code",
   "execution_count": 17,
   "metadata": {},
   "outputs": [
    {
     "name": "stdout",
     "output_type": "stream",
     "text": [
      "[1829, 3066, 306, 2430, 1756]\n"
     ]
    }
   ],
   "source": [
    "tokenizer = tiktoken.encoding_for_model(MODEL_NAME)\n",
    "tokens_per_document = [len(tokenizer.encode(document)) for _, document in documents]\n",
    "pprint(tokens_per_document)"
   ]
  },
  {
   "attachments": {},
   "cell_type": "markdown",
   "metadata": {},
   "source": [
    "Some of them are too long - instead of using entire documents, we'll extract a random chunk from them"
   ]
  },
  {
   "cell_type": "code",
   "execution_count": 18,
   "metadata": {},
   "outputs": [],
   "source": [
    "# extract a random chunk from a document\n",
    "def extract_random_chunk(document, max_tokens=1024):\n",
    "    tokens = tokenizer.encode(document)\n",
    "    if len(tokens) <= max_tokens:\n",
    "        return document\n",
    "    start = random.randint(0, len(tokens) - max_tokens)\n",
    "    end = start + max_tokens\n",
    "    return tokenizer.decode(tokens[start:end])"
   ]
  },
  {
   "attachments": {},
   "cell_type": "markdown",
   "metadata": {},
   "source": [
    "Now, we will use that extracted chunk to create a question that can be answered by the document. This way we can generate questions that our current documentation is capable of answering."
   ]
  },
  {
   "cell_type": "code",
   "execution_count": 19,
   "metadata": {},
   "outputs": [],
   "source": [
    "def generate_context_prompt(chunk):\n",
    "    prompt = \"Generate a support question from a DFINITY ICP user.\\n\" +\\\n",
    "        \"The question should be answerable within the following fragment of DFINITY ICP documentation.\\n\" +\\\n",
    "        \"The fragment of documentation is delimited by 5 dollar signs:\\n\" +\\\n",
    "        \" $$$$$ \" +\\\n",
    "        chunk + \"\\n\" +\\\n",
    "        \" $$$$$ \" +\\\n",
    "        \"Let's start!\"\n",
    "    return prompt\n",
    "\n",
    "chunk = extract_random_chunk(documents[0][1])\n",
    "generation_prompt = generate_context_prompt(chunk)\n",
    "pass"
   ]
  },
  {
   "cell_type": "code",
   "execution_count": 20,
   "metadata": {},
   "outputs": [
    {
     "data": {
      "text/html": [
       "<pre style=\"white-space:pre;overflow-x:auto;line-height:normal;font-family:Menlo,'DejaVu Sans Mono',consolas,'Courier New',monospace\">Generate a support question from a DFINITY ICP user. The question should be answerable within the following        \n",
       "fragment of DFINITY ICP documentation. The fragment of documentation is delimited by 5 dollar signs: $$$$$  to     \n",
       "create a new <span style=\"color: #008080; text-decoration-color: #008080; background-color: #000000; font-weight: bold\">Proposal</span> (which has been factored out by the helper <span style=\"color: #008080; text-decoration-color: #008080; background-color: #000000; font-weight: bold\">makeProposal</span>). Note that our <span style=\"color: #008080; text-decoration-color: #008080; background-color: #000000; font-weight: bold\">proposals</span> array is   \n",
       "mutable, so we must first <span style=\"color: #008080; text-decoration-color: #008080; background-color: #000000; font-weight: bold\">freeze</span> the current array before appending our new <span style=\"color: #008080; text-decoration-color: #008080; background-color: #000000; font-weight: bold\">Proposal</span>. Finally, we <span style=\"color: #008080; text-decoration-color: #008080; background-color: #000000; font-weight: bold\">thaw</span> the array   \n",
       "before resetting the value of <span style=\"color: #008080; text-decoration-color: #008080; background-color: #000000; font-weight: bold\">proposals</span>.                                                                           \n",
       "\n",
       "<span style=\"color: #008080; text-decoration-color: #008080; background-color: #000000; font-weight: bold\">checkProposal</span> checks if the given proposal has exceeded its <span style=\"color: #008080; text-decoration-color: #008080; background-color: #000000; font-weight: bold\">ttl</span>, and, if so, runs the necessary calculation to     \n",
       "determine if the proposal status should switch to <span style=\"color: #008080; text-decoration-color: #008080; background-color: #000000; font-weight: bold\">#succeeded</span> or <span style=\"color: #008080; text-decoration-color: #008080; background-color: #000000; font-weight: bold\">#defeated</span>. We have created <span style=\"color: #008080; text-decoration-color: #008080; background-color: #000000; font-weight: bold\">checkProposal</span> and       \n",
       "<span style=\"color: #008080; text-decoration-color: #008080; background-color: #000000; font-weight: bold\">_checkProposal</span> to allow this function to both be used within the <span style=\"color: #008080; text-decoration-color: #008080; background-color: #000000; font-weight: bold\">Governor</span> canister (as a helper in <span style=\"color: #008080; text-decoration-color: #008080; background-color: #000000; font-weight: bold\">voteOnProposal</span>) \n",
       "and for external canister calls. <span style=\"color: #008080; text-decoration-color: #008080; background-color: #000000; font-weight: bold\">checkProposal</span> is for external calls (hence the <span style=\"color: #008080; text-decoration-color: #008080; background-color: #000000; font-weight: bold\">async</span> result) while <span style=\"color: #008080; text-decoration-color: #008080; background-color: #000000; font-weight: bold\">_checkProposal</span> \n",
       "is for internal canister use only.                                                                                 \n",
       "\n",
       "The <span style=\"color: #008080; text-decoration-color: #008080; background-color: #000000; font-weight: bold\">migrate</span> method performs the canister migration by replacing <span style=\"color: #008080; text-decoration-color: #008080; background-color: #000000; font-weight: bold\">currentApp</span> (which stores the canister of the       \n",
       "current App for our auction system) with the Principal provided in the passed proposal. This only occurs once a    \n",
       "proposal has been voted on and passes the desired threshold.                                                       \n",
       "\n",
       "                                                   <span style=\"font-weight: bold\">Specification</span>                                                   \n",
       "\n",
       "<span style=\"font-weight: bold\">Task:</span> Complete the implementation of the <span style=\"color: #008080; text-decoration-color: #008080; background-color: #000000; font-weight: bold\">cancelProposal</span> and <span style=\"color: #008080; text-decoration-color: #008080; background-color: #000000; font-weight: bold\">voteOnProposal</span> methods in <span style=\"color: #008080; text-decoration-color: #008080; background-color: #000000; font-weight: bold\">Governor.mo</span>.                 \n",
       "\n",
       "<span style=\"color: #008080; text-decoration-color: #008080; background-color: #000000; font-weight: bold\">cancelProposal</span> enables the proposal owner or the <span style=\"color: #008080; text-decoration-color: #008080; background-color: #000000; font-weight: bold\">Governor</span> owner to cancel an active proposal                       \n",
       "\n",
       "<span style=\"color: #808000; text-decoration-color: #808000; font-weight: bold\"> • </span><span style=\"color: #008080; text-decoration-color: #008080; background-color: #000000; font-weight: bold\">cancelProposal</span> accepts one parameter, a <span style=\"color: #008080; text-decoration-color: #008080; background-color: #000000; font-weight: bold\">propNum</span>, which represents the index of the proposal in the <span style=\"color: #008080; text-decoration-color: #008080; background-color: #000000; font-weight: bold\">proposals</span>    \n",
       "<span style=\"color: #808000; text-decoration-color: #808000; font-weight: bold\">   </span>list                                                                                                            \n",
       "<span style=\"color: #808000; text-decoration-color: #808000; font-weight: bold\"> • </span>First, check that the <span style=\"color: #008080; text-decoration-color: #008080; background-color: #000000; font-weight: bold\">propNum</span> is a valid index (that it doesn't reference an out-of-bound index location based  \n",
       "<span style=\"color: #808000; text-decoration-color: #808000; font-weight: bold\">   </span>on the size of <span style=\"color: #008080; text-decoration-color: #008080; background-color: #000000; font-weight: bold\">proposals</span>)                                                                                       \n",
       "<span style=\"color: #808000; text-decoration-color: #808000; font-weight: bold\">    • </span>If not, return the <span style=\"color: #008080; text-decoration-color: #008080; background-color: #000000; font-weight: bold\">#proposalNotFound</span> error (defined in <span style=\"color: #008080; text-decoration-color: #008080; background-color: #000000; font-weight: bold\">Types.mo</span>)                                             \n",
       "<span style=\"color: #808000; text-decoration-color: #808000; font-weight: bold\"> • </span>We then want to ensure that the canister calling <span style=\"color: #008080; text-decoration-color: #008080; background-color: #000000; font-weight: bold\">cancelProposal</span> is either the owner of the proposal or the owner\n",
       "<span style=\"color: #808000; text-decoration-color: #808000; font-weight: bold\">   </span>of the entire <span style=\"color: #008080; text-decoration-color: #008080; background-color: #000000; font-weight: bold\">Governor</span> canister                                                                                 \n",
       "<span style=\"color: #808000; text-decoration-color: #808000; font-weight: bold\">    • </span>If not, return the <span style=\"color: #008080; text-decoration-color: #008080; background-color: #000000; font-weight: bold\">incorrectPermissions</span> error                                                                \n",
       "<span style=\"color: #808000; text-decoration-color: #808000; font-weight: bold\">    • </span>Remember that we can access the caller of a method by querying the <span style=\"color: #008080; text-decoration-color: #008080; background-color: #000000; font-weight: bold\">caller</span> field of our <span style=\"color: #008080; text-decoration-color: #008080; background-color: #000000; font-weight: bold\">msg</span> record with       \n",
       "<span style=\"color: #808000; text-decoration-color: #808000; font-weight: bold\">      </span><span style=\"color: #008080; text-decoration-color: #008080; background-color: #000000; font-weight: bold\">msg.caller</span>                                                                                                   \n",
       "<span style=\"color: #808000; text-decoration-color: #808000; font-weight: bold\"> • </span>Finally, check that the proposals's current status is <span style=\"color: #008080; text-decoration-color: #008080; background-color: #000000; font-weight: bold\">active</span>. If so, change it to <span style=\"color: #008080; text-decoration-color: #008080; background-color: #000000; font-weight: bold\">#canceled</span> and return <span style=\"color: #008080; text-decoration-color: #008080; background-color: #000000; font-weight: bold\">#ok()</span>    \n",
       "<span style=\"color: #808000; text-decoration-color: #808000; font-weight: bold\">    • </span>If it is anything other than active, return the <span style=\"color: #008080; text-decoration-color: #008080; background-color: #000000; font-weight: bold\">#proposalNotActive</span> error                                     \n",
       "\n",
       "<span style=\"color: #008080; text-decoration-color: #008080; background-color: #000000; font-weight: bold\">voteOnProposal</span> allows stakeholders to vote for or against an active proposal                                       \n",
       "\n",
       "<span style=\"color: #808000; text-decoration-color: #808000; font-weight: bold\"> • </span>Accepts two parameters: <span style=\"color: #008080; text-decoration-color: #008080; background-color: #000000; font-weight: bold\">propNum</span>, which represents the index of the proposal in the <span style=\"color: #008080; text-decoration-color: #008080; background-color: #000000; font-weight: bold\">proposals</span> list, and <span style=\"color: #008080; text-decoration-color: #008080; background-color: #000000; font-weight: bold\">vote</span>,    \n",
       "<span style=\"color: #808000; text-decoration-color: #808000; font-weight: bold\">   </span>which is a vote for the corresponding proposal (which must be the variant type <span style=\"color: #008080; text-decoration-color: #008080; background-color: #000000; font-weight: bold\">Vote</span>)                            \n",
       "<span style=\"color: #808000; text-decoration-color: #808000; font-weight: bold\"> • </span>You must first check if the proposal is active (i.e. that it hasn't exceeded its time to live, or <span style=\"color: #008080; text-decoration-color: #008080; background-color: #000000; font-weight: bold\">ttl</span>) by       \n",
       "<span style=\"color: #808000; text-decoration-color: #808000; font-weight: bold\">   </span>calling <span style=\"color: #008080; text-decoration-color: #008080; background-color: #000000; font-weight: bold\">_checkProposal</span>                                                                                          \n",
       "<span style=\"color: #808000; text-decoration-color: #808000; font-weight: bold\">    • </span>If <span style=\"color: #008080; text-decoration-color: #008080; background-color: #000000; font-weight: bold\">_checkProposal</span> throws an error, be sure to return that same error for <span style=\"color: #008080; text-decoration-color: #008080; background-color: #000000; font-weight: bold\">voteOnProposal</span> as well              \n",
       "<span style=\"color: #808000; text-decoration-color: #808000; font-weight: bold\"> • </span><span style=\"color: #008080; text-decoration-color: #008080; background-color: #000000; font-weight: bold\">_checkProposal</span> returns the status of the proposal that you passed in, so you must condition on this status      \n",
       "<span style=\"color: #808000; text-decoration-color: #808000; font-weight: bold\">    • </span>If the proposal is active, then increment either the <span style=\"color: #008080; text-decoration-color: #008080; background-color: #000000; font-weight: bold\">votesFor</span> or <span style=\"color: #008080; text-decoration-color: #008080; background-color: #000000; font-weight: bold\">votesAgainst</span> attributes of the given        \n",
       "<span style=\"color: #808000; text-decoration-color: #808000; font-weight: bold\">      </span>proposal depending on the <span style=\"color: #008080; text-decoration-color: #008080; background-color: #000000; font-weight: bold\">vote</span> that was cast                                                                 \n",
       "<span style=\"color: #808000; text-decoration-color: #808000; font-weight: bold\">    • </span>Otherwise, return the <span style=\"color: #008080; text-decoration-color: #008080; background-color: #000000; font-weight: bold\">#proposalNotActive</span> error                                                               \n",
       "\n",
       "                                                      <span style=\"font-weight: bold\">Testing</span>                                                      \n",
       "\n",
       "Take a look at the <a href=\"https://sdk.dfinity.org/docs/quickstart/quickstart.html\" target=\"_blank\"><span style=\"color: #000080; text-decoration-color: #000080; text-decoration: underline\">Developer Quick Start Guide</span></a> if you'd like a quick refresher on how to run programs on a         \n",
       "locally-deployed IC network.                                                                                       \n",
       "\n",
       "Follow these steps to deploy your canisters and launch the front end. If you run into any issues, reference the    \n",
       "<span style=\"font-weight: bold\">Quick Start Guide</span>, linked above,  for a more in-depth walkthrough.                                                 \n",
       "\n",
       "<span style=\"color: #808000; text-decoration-color: #808000; font-weight: bold\"> 1 </span>Ensure that your dfx version matches the version shown in the <span style=\"color: #008080; text-decoration-color: #008080; background-color: #000000; font-weight: bold\">dfx.json</span> file by running the following command:   \n",
       "<span style=\"color: #808000; text-decoration-color: #808000; font-weight: bold\">   </span><span style=\"background-color: #272822\">                                                                                                                </span>\n",
       "<span style=\"color: #808000; text-decoration-color: #808000; font-weight: bold\">   </span><span style=\"background-color: #272822\"> </span><span style=\"color: #f8f8f2; text-decoration-color: #f8f8f2; background-color: #272822\">dfx --version</span><span style=\"background-color: #272822\">                                                                                                  </span>\n",
       "<span style=\"color: #808000; text-decoration-color: #808000; font-weight: bold\">   </span><span style=\"background-color: #272822\">                                                                                                                </span>\n",
       "<span style=\"color: #808000; text-decoration-color: #808000; font-weight: bold\">   </span>You should see something along the lines of:                                                                    \n",
       "<span style=\"color: #808000; text-decoration-color: #808000; font-weight: bold\">   </span><span style=\"background-color: #272822\">                                                                                                                </span>\n",
       "<span style=\"color: #808000; text-decoration-color: #808000; font-weight: bold\">   </span><span style=\"background-color: #272822\"> </span><span style=\"color: #f8f8f2; text-decoration-color: #f8f8f2; background-color: #272822\">dfx 0.6.14</span><span style=\"background-color: #272822\">                                                                                                     </span>\n",
       "<span style=\"color: #808000; text-decoration-color: #808000; font-weight: bold\">   </span><span style=\"background-color: #272822\">                                                                                                                </span>\n",
       "<span style=\"color: #808000; text-decoration-color: #808000; font-weight: bold\">   </span>If your dfx version doesn't match that of the <span style=\"color: #008080; text-decoration-color: #008080; background-color: #000000; font-weight: bold\">dfx.json</span> file, see the <a href=\"https://sdk.dfinity.org/docs/developers-guide/install-upgrade-remove.html#install-version\" target=\"_blank\"><span style=\"color: #000080; text-decoration-color: #000080; text-decoration: underline\">this guide</span></a> for help in changing it.        \n",
       "<span style=\"color: #808000; text-decoration-color: #808000; font-weight: bold\"> 2 </span>Open a second terminal window (so you can start and view network operations without conflicting with the        \n",
       "<span style=\"color: #808000; text-decoration-color: #808000; font-weight: bold\">   </span>management of your project) and navigate to the same <span style=\"color: #008080; text-decoration-color: #008080; background-color: #000000; font-weight: bold\">\\web-development</span> directory.                                \n",
       "<span style=\"color: #808000; text-decoration-color: #808000; font-weight: bold\">   </span>In this new window, run:                                                                                        \n",
       "<span style=\"color: #808000; text-decoration-color: #808000; font-weight: bold\">   </span><span style=\"background-color: #272822\">                                                                                                                </span>\n",
       "<span style=\"color: #808000; text-decoration-color: #808000; font-weight: bold\">   </span><span style=\"background-color: #272822\"> </span><span style=\"color: #f8f8f2; text-decoration-color: #f8f8f2; background-color: #272822\">dfx start</span><span style=\"background-color: #272822\">                                                                                                      </span>\n",
       "<span style=\"color: #808000; text-decoration-color: #808000; font-weight: bold\">   </span><span style=\"background-color: #272822\">                                                                                                                </span>\n",
       "<span style=\"color: #808000; text-decoration-color: #808000; font-weight: bold\"> 3 </span>Navigate back to your main terminal window (also in the <span style=\"color: #008080; text-decoration-color: #008080; background-color: #000000; font-weight: bold\">\\web-development</span> directory) and ensure that you have    \n",
       "<span style=\"color: #808000; text-decoration-color: #808000; font-weight: bold\">   </span><span style=\"color: #008080; text-decoration-color: #008080; background-color: #000000; font-weight: bold\">node</span> modules available by running:                                                                              \n",
       "<span style=\"color: #808000; text-decoration-color: #808000; font-weight: bold\">   </span><span style=\"background-color: #272822\">                                                                                                                </span>\n",
       "<span style=\"color: #808000; text-decoration-color: #808000; font-weight: bold\">   </span><span style=\"background-color: #272822\"> </span><span style=\"color: #f8f8f2; text-decoration-color: #f8f8f2; background-color: #272822\">npm install</span><span style=\"background-color: #272822\">                                                                                                    </span>\n",
       "<span style=\"color: #808000; text-decoration-color: #808000; font-weight: bold\">   </span><span style=\"background-color: #272822\">                                                                                                                </span>\n",
       "<span style=\"color: #808000; text-decoration-color: #808000; font-weight: bold\"> 4 </span>Finally, execute:                                                                                               \n",
       "<span style=\"color: #808000; text-decoration-color: #808000; font-weight: bold\">   </span><span style=\"background-color: #272822\">                                                                                                                </span>\n",
       "<span style=\"color: #808000; text-decoration-color: #808000; font-weight: bold\">   </span><span style=\"background-color: #272822\">                                                                                                                </span>\n",
       "<span style=\"color: #808000; text-decoration-color: #808000; font-weight: bold\">   </span><span style=\"background-color: #272822\">                                                                                                                </span>\n",
       "\n",
       "$$$$$ Let's start!                                                                                                 \n",
       "</pre>\n"
      ],
      "text/plain": [
       "Generate a support question from a DFINITY ICP user. The question should be answerable within the following        \n",
       "fragment of DFINITY ICP documentation. The fragment of documentation is delimited by 5 dollar signs: $$$$$  to     \n",
       "create a new \u001b[1;36;40mProposal\u001b[0m (which has been factored out by the helper \u001b[1;36;40mmakeProposal\u001b[0m). Note that our \u001b[1;36;40mproposals\u001b[0m array is   \n",
       "mutable, so we must first \u001b[1;36;40mfreeze\u001b[0m the current array before appending our new \u001b[1;36;40mProposal\u001b[0m. Finally, we \u001b[1;36;40mthaw\u001b[0m the array   \n",
       "before resetting the value of \u001b[1;36;40mproposals\u001b[0m.                                                                           \n",
       "\n",
       "\u001b[1;36;40mcheckProposal\u001b[0m checks if the given proposal has exceeded its \u001b[1;36;40mttl\u001b[0m, and, if so, runs the necessary calculation to     \n",
       "determine if the proposal status should switch to \u001b[1;36;40m#succeeded\u001b[0m or \u001b[1;36;40m#defeated\u001b[0m. We have created \u001b[1;36;40mcheckProposal\u001b[0m and       \n",
       "\u001b[1;36;40m_checkProposal\u001b[0m to allow this function to both be used within the \u001b[1;36;40mGovernor\u001b[0m canister (as a helper in \u001b[1;36;40mvoteOnProposal\u001b[0m) \n",
       "and for external canister calls. \u001b[1;36;40mcheckProposal\u001b[0m is for external calls (hence the \u001b[1;36;40masync\u001b[0m result) while \u001b[1;36;40m_checkProposal\u001b[0m \n",
       "is for internal canister use only.                                                                                 \n",
       "\n",
       "The \u001b[1;36;40mmigrate\u001b[0m method performs the canister migration by replacing \u001b[1;36;40mcurrentApp\u001b[0m (which stores the canister of the       \n",
       "current App for our auction system) with the Principal provided in the passed proposal. This only occurs once a    \n",
       "proposal has been voted on and passes the desired threshold.                                                       \n",
       "\n",
       "                                                   \u001b[1mSpecification\u001b[0m                                                   \n",
       "\n",
       "\u001b[1mTask:\u001b[0m Complete the implementation of the \u001b[1;36;40mcancelProposal\u001b[0m and \u001b[1;36;40mvoteOnProposal\u001b[0m methods in \u001b[1;36;40mGovernor.mo\u001b[0m.                 \n",
       "\n",
       "\u001b[1;36;40mcancelProposal\u001b[0m enables the proposal owner or the \u001b[1;36;40mGovernor\u001b[0m owner to cancel an active proposal                       \n",
       "\n",
       "\u001b[1;33m • \u001b[0m\u001b[1;36;40mcancelProposal\u001b[0m accepts one parameter, a \u001b[1;36;40mpropNum\u001b[0m, which represents the index of the proposal in the \u001b[1;36;40mproposals\u001b[0m    \n",
       "\u001b[1;33m   \u001b[0mlist                                                                                                            \n",
       "\u001b[1;33m • \u001b[0mFirst, check that the \u001b[1;36;40mpropNum\u001b[0m is a valid index (that it doesn't reference an out-of-bound index location based  \n",
       "\u001b[1;33m   \u001b[0mon the size of \u001b[1;36;40mproposals\u001b[0m)                                                                                       \n",
       "\u001b[1;33m   \u001b[0m\u001b[1;33m • \u001b[0mIf not, return the \u001b[1;36;40m#proposalNotFound\u001b[0m error (defined in \u001b[1;36;40mTypes.mo\u001b[0m)                                             \n",
       "\u001b[1;33m • \u001b[0mWe then want to ensure that the canister calling \u001b[1;36;40mcancelProposal\u001b[0m is either the owner of the proposal or the owner\n",
       "\u001b[1;33m   \u001b[0mof the entire \u001b[1;36;40mGovernor\u001b[0m canister                                                                                 \n",
       "\u001b[1;33m   \u001b[0m\u001b[1;33m • \u001b[0mIf not, return the \u001b[1;36;40mincorrectPermissions\u001b[0m error                                                                \n",
       "\u001b[1;33m   \u001b[0m\u001b[1;33m • \u001b[0mRemember that we can access the caller of a method by querying the \u001b[1;36;40mcaller\u001b[0m field of our \u001b[1;36;40mmsg\u001b[0m record with       \n",
       "\u001b[1;33m   \u001b[0m\u001b[1;33m   \u001b[0m\u001b[1;36;40mmsg.caller\u001b[0m                                                                                                   \n",
       "\u001b[1;33m • \u001b[0mFinally, check that the proposals's current status is \u001b[1;36;40mactive\u001b[0m. If so, change it to \u001b[1;36;40m#canceled\u001b[0m and return \u001b[1;36;40m#ok()\u001b[0m    \n",
       "\u001b[1;33m   \u001b[0m\u001b[1;33m • \u001b[0mIf it is anything other than active, return the \u001b[1;36;40m#proposalNotActive\u001b[0m error                                     \n",
       "\n",
       "\u001b[1;36;40mvoteOnProposal\u001b[0m allows stakeholders to vote for or against an active proposal                                       \n",
       "\n",
       "\u001b[1;33m • \u001b[0mAccepts two parameters: \u001b[1;36;40mpropNum\u001b[0m, which represents the index of the proposal in the \u001b[1;36;40mproposals\u001b[0m list, and \u001b[1;36;40mvote\u001b[0m,    \n",
       "\u001b[1;33m   \u001b[0mwhich is a vote for the corresponding proposal (which must be the variant type \u001b[1;36;40mVote\u001b[0m)                            \n",
       "\u001b[1;33m • \u001b[0mYou must first check if the proposal is active (i.e. that it hasn't exceeded its time to live, or \u001b[1;36;40mttl\u001b[0m) by       \n",
       "\u001b[1;33m   \u001b[0mcalling \u001b[1;36;40m_checkProposal\u001b[0m                                                                                          \n",
       "\u001b[1;33m   \u001b[0m\u001b[1;33m • \u001b[0mIf \u001b[1;36;40m_checkProposal\u001b[0m throws an error, be sure to return that same error for \u001b[1;36;40mvoteOnProposal\u001b[0m as well              \n",
       "\u001b[1;33m • \u001b[0m\u001b[1;36;40m_checkProposal\u001b[0m returns the status of the proposal that you passed in, so you must condition on this status      \n",
       "\u001b[1;33m   \u001b[0m\u001b[1;33m • \u001b[0mIf the proposal is active, then increment either the \u001b[1;36;40mvotesFor\u001b[0m or \u001b[1;36;40mvotesAgainst\u001b[0m attributes of the given        \n",
       "\u001b[1;33m   \u001b[0m\u001b[1;33m   \u001b[0mproposal depending on the \u001b[1;36;40mvote\u001b[0m that was cast                                                                 \n",
       "\u001b[1;33m   \u001b[0m\u001b[1;33m • \u001b[0mOtherwise, return the \u001b[1;36;40m#proposalNotActive\u001b[0m error                                                               \n",
       "\n",
       "                                                      \u001b[1mTesting\u001b[0m                                                      \n",
       "\n",
       "Take a look at the \u001b]8;id=645577;https://sdk.dfinity.org/docs/quickstart/quickstart.html\u001b\\\u001b[4;34mDeveloper Quick Start Guide\u001b[0m\u001b]8;;\u001b\\ if you'd like a quick refresher on how to run programs on a         \n",
       "locally-deployed IC network.                                                                                       \n",
       "\n",
       "Follow these steps to deploy your canisters and launch the front end. If you run into any issues, reference the    \n",
       "\u001b[1mQuick Start Guide\u001b[0m, linked above,  for a more in-depth walkthrough.                                                 \n",
       "\n",
       "\u001b[1;33m 1 \u001b[0mEnsure that your dfx version matches the version shown in the \u001b[1;36;40mdfx.json\u001b[0m file by running the following command:   \n",
       "\u001b[1;33m   \u001b[0m\u001b[48;2;39;40;34m                                                                                                                \u001b[0m\n",
       "\u001b[1;33m   \u001b[0m\u001b[48;2;39;40;34m \u001b[0m\u001b[38;2;248;248;242;48;2;39;40;34mdfx --version\u001b[0m\u001b[48;2;39;40;34m                                                                                                 \u001b[0m\u001b[48;2;39;40;34m \u001b[0m\n",
       "\u001b[1;33m   \u001b[0m\u001b[48;2;39;40;34m                                                                                                                \u001b[0m\n",
       "\u001b[1;33m   \u001b[0mYou should see something along the lines of:                                                                    \n",
       "\u001b[1;33m   \u001b[0m\u001b[48;2;39;40;34m                                                                                                                \u001b[0m\n",
       "\u001b[1;33m   \u001b[0m\u001b[48;2;39;40;34m \u001b[0m\u001b[38;2;248;248;242;48;2;39;40;34mdfx 0.6.14\u001b[0m\u001b[48;2;39;40;34m                                                                                                    \u001b[0m\u001b[48;2;39;40;34m \u001b[0m\n",
       "\u001b[1;33m   \u001b[0m\u001b[48;2;39;40;34m                                                                                                                \u001b[0m\n",
       "\u001b[1;33m   \u001b[0mIf your dfx version doesn't match that of the \u001b[1;36;40mdfx.json\u001b[0m file, see the \u001b]8;id=570426;https://sdk.dfinity.org/docs/developers-guide/install-upgrade-remove.html#install-version\u001b\\\u001b[4;34mthis guide\u001b[0m\u001b]8;;\u001b\\ for help in changing it.        \n",
       "\u001b[1;33m 2 \u001b[0mOpen a second terminal window (so you can start and view network operations without conflicting with the        \n",
       "\u001b[1;33m   \u001b[0mmanagement of your project) and navigate to the same \u001b[1;36;40m\\web-development\u001b[0m directory.                                \n",
       "\u001b[1;33m   \u001b[0mIn this new window, run:                                                                                        \n",
       "\u001b[1;33m   \u001b[0m\u001b[48;2;39;40;34m                                                                                                                \u001b[0m\n",
       "\u001b[1;33m   \u001b[0m\u001b[48;2;39;40;34m \u001b[0m\u001b[38;2;248;248;242;48;2;39;40;34mdfx start\u001b[0m\u001b[48;2;39;40;34m                                                                                                     \u001b[0m\u001b[48;2;39;40;34m \u001b[0m\n",
       "\u001b[1;33m   \u001b[0m\u001b[48;2;39;40;34m                                                                                                                \u001b[0m\n",
       "\u001b[1;33m 3 \u001b[0mNavigate back to your main terminal window (also in the \u001b[1;36;40m\\web-development\u001b[0m directory) and ensure that you have    \n",
       "\u001b[1;33m   \u001b[0m\u001b[1;36;40mnode\u001b[0m modules available by running:                                                                              \n",
       "\u001b[1;33m   \u001b[0m\u001b[48;2;39;40;34m                                                                                                                \u001b[0m\n",
       "\u001b[1;33m   \u001b[0m\u001b[48;2;39;40;34m \u001b[0m\u001b[38;2;248;248;242;48;2;39;40;34mnpm install\u001b[0m\u001b[48;2;39;40;34m                                                                                                   \u001b[0m\u001b[48;2;39;40;34m \u001b[0m\n",
       "\u001b[1;33m   \u001b[0m\u001b[48;2;39;40;34m                                                                                                                \u001b[0m\n",
       "\u001b[1;33m 4 \u001b[0mFinally, execute:                                                                                               \n",
       "\u001b[1;33m   \u001b[0m\u001b[48;2;39;40;34m                                                                                                                \u001b[0m\n",
       "\u001b[1;33m   \u001b[0m\u001b[48;2;39;40;34m \u001b[0m\u001b[48;2;39;40;34m                                                                                                              \u001b[0m\u001b[48;2;39;40;34m \u001b[0m\n",
       "\u001b[1;33m   \u001b[0m\u001b[48;2;39;40;34m                                                                                                                \u001b[0m\n",
       "\n",
       "$$$$$ Let's start!                                                                                                 \n"
      ]
     },
     "execution_count": 20,
     "metadata": {},
     "output_type": "execute_result"
    }
   ],
   "source": [
    "# pprint(generation_prompt)\n",
    "Markdown(generation_prompt)"
   ]
  },
  {
   "attachments": {},
   "cell_type": "markdown",
   "metadata": {},
   "source": [
    "Let's generate 3 possible questions:"
   ]
  },
  {
   "cell_type": "code",
   "execution_count": 21,
   "metadata": {},
   "outputs": [
    {
     "name": "stdout",
     "output_type": "stream",
     "text": [
      "['Can I get help with implementing the `cancelProposal` and `voteOnProposal` '\n",
      " 'methods in `Governor.mo`?',\n",
      " 'Support Question: How can I cancel an active proposal in the Governor '\n",
      " 'canister?\\n'\n",
      " '\\n'\n",
      " 'Possible answer: To cancel an active proposal in the Governor canister, you '\n",
      " 'can use the `cancelProposal` method. This method accepts one parameter, '\n",
      " '`propNum`, which represents the index of the proposal in the `proposals` '\n",
      " 'list. \\n'\n",
      " '\\n'\n",
      " 'First, you need to check that the `propNum` is a valid index by ensuring '\n",
      " \"that it doesn't reference an out-of-bound index location based on the size \"\n",
      " 'of `proposals`. If it is an invalid index, you will receive the '\n",
      " '`#proposalNotFound` error. \\n'\n",
      " '\\n'\n",
      " 'Next, you need to make sure that the canister calling `cancelProposal` is '\n",
      " 'either the owner of the proposal or the owner of the entire `Governor` '\n",
      " 'canister. You can access the caller of a method by querying the `caller` '\n",
      " 'field of the `msg` record with `msg.caller`. If the caller is not the owner '\n",
      " 'of the proposal or the Governor canister, you will receive the '\n",
      " '`incorrectPermissions` error.\\n'\n",
      " '\\n'\n",
      " \"Finally, check that the proposal's current status is `active`. If it is \"\n",
      " 'active, you can change its status to `#canceled` and return `#ok()`. If it '\n",
      " 'is anything other than active, you will receive the `#proposalNotActive` '\n",
      " 'error.',\n",
      " 'How do I cancel an active proposal in the DFINITY ICP Governor canister?']\n"
     ]
    }
   ],
   "source": [
    "questions = generate_responses(system_prompt, generation_prompt, n=3)\n",
    "pprint(questions)"
   ]
  },
  {
   "attachments": {},
   "cell_type": "markdown",
   "metadata": {},
   "source": [
    "> As you can see, sometimes the generation contains an intro phrase like: \"Sure, here's a support question based on the documentation:\", we may want to put some instructions to avoid this."
   ]
  },
  {
   "attachments": {},
   "cell_type": "markdown",
   "metadata": {},
   "source": [
    "### Level 5 prompt\n",
    "\n",
    "Complex directive that includes the following:\n",
    "- Description of high-level goal\n",
    "- A detailed bulleted list of sub-tasks\n",
    "- An explicit statement asking LLM to explain its own output\n",
    "- A guideline on how LLM output will be evaluated\n",
    "- Few-shot examples"
   ]
  },
  {
   "cell_type": "code",
   "execution_count": 22,
   "metadata": {},
   "outputs": [],
   "source": [
    "# we will use GPT4 from here, as it gives better answers and abides to instructions better\n",
    "# MODEL_NAME = \"gpt-4\"\n",
    "MODEL_NAME = \"gpt-3.5-turbo\""
   ]
  },
  {
   "cell_type": "code",
   "execution_count": 23,
   "metadata": {},
   "outputs": [],
   "source": [
    "# read system_template.txt file into an f-string\n",
    "with open(\"system_template_dfinity.txt\", \"r\") as file:\n",
    "    system_prompt = file.read()"
   ]
  },
  {
   "cell_type": "code",
   "execution_count": 24,
   "metadata": {},
   "outputs": [
    {
     "data": {
      "text/html": [
       "<pre style=\"white-space:pre;overflow-x:auto;line-height:normal;font-family:Menlo,'DejaVu Sans Mono',consolas,'Courier New',monospace\">You are a creative assistant with the goal to generate a synthetic dataset of Internet Computer (ICP) user         \n",
       "questions. ICP users are asking these questions to a bot, so they don't know the answer and their questions are    \n",
       "grounded in what they're trying to achieve. We are interested in questions that can be answered by ICP             \n",
       "documentation. But the users don't have access to this documentation, so you need to imagine what they're trying to\n",
       "do and use according language.                                                                                     \n",
       "</pre>\n"
      ],
      "text/plain": [
       "You are a creative assistant with the goal to generate a synthetic dataset of Internet Computer (ICP) user         \n",
       "questions. ICP users are asking these questions to a bot, so they don't know the answer and their questions are    \n",
       "grounded in what they're trying to achieve. We are interested in questions that can be answered by ICP             \n",
       "documentation. But the users don't have access to this documentation, so you need to imagine what they're trying to\n",
       "do and use according language.                                                                                     \n"
      ]
     },
     "execution_count": 24,
     "metadata": {},
     "output_type": "execute_result"
    }
   ],
   "source": [
    "Markdown(system_prompt)"
   ]
  },
  {
   "cell_type": "code",
   "execution_count": 25,
   "metadata": {},
   "outputs": [],
   "source": [
    "# read prompt_template.txt file into an f-string\n",
    "with open(\"prompt_template_dfinity.txt\", \"r\") as file:\n",
    "    prompt_template = file.read()"
   ]
  },
  {
   "cell_type": "code",
   "execution_count": 26,
   "metadata": {},
   "outputs": [
    {
     "data": {
      "text/html": [
       "<pre style=\"white-space:pre;overflow-x:auto;line-height:normal;font-family:Menlo,'DejaVu Sans Mono',consolas,'Courier New',monospace\">Here are some examples of real user questions, you will be judged by how well you match this distribution.         \n",
       "\n",
       "<span style=\"color: #808000; text-decoration-color: #808000\">───────────────────────────────────────────────────────────────────────────────────────────────────────────────────</span>\n",
       "{QUESTIONS}                                                                                                        \n",
       "\n",
       "<span style=\"color: #808000; text-decoration-color: #808000\">───────────────────────────────────────────────────────────────────────────────────────────────────────────────────</span>\n",
       "In the next step, you will read a fragment of ICP documentation. This will serve as inspiration for synthetic user \n",
       "question and the source of the answer. Here is the document fragment:                                              \n",
       "\n",
       "<span style=\"color: #808000; text-decoration-color: #808000\">───────────────────────────────────────────────────────────────────────────────────────────────────────────────────</span>\n",
       "{CHUNK}                                                                                                            \n",
       "\n",
       "<span style=\"color: #808000; text-decoration-color: #808000\">───────────────────────────────────────────────────────────────────────────────────────────────────────────────────</span>\n",
       "You will now generate a user question and corresponding answer based on the above document. First, explain the user\n",
       "context and what problems they might be trying to solve. Second, generate user question. Third, provide the        \n",
       "accurate and concise answer in markdown format to the user question using the documentation. You'll be evaluated   \n",
       "on:                                                                                                                \n",
       "\n",
       "<span style=\"color: #808000; text-decoration-color: #808000; font-weight: bold\"> • </span>how realistic is that this question will come from a real user one day?                                         \n",
       "<span style=\"color: #808000; text-decoration-color: #808000; font-weight: bold\"> • </span>is this question about ICP?                                                                                     \n",
       "<span style=\"color: #808000; text-decoration-color: #808000; font-weight: bold\"> • </span>can the question be answered using the ICP document fragment above?                                             \n",
       "<span style=\"color: #808000; text-decoration-color: #808000; font-weight: bold\"> • </span>how accurate is the answer? Remember that users have different styles and can be imprecise. You are very good at\n",
       "<span style=\"color: #808000; text-decoration-color: #808000; font-weight: bold\">   </span>impersonating them! Use the following format: CONTEXT: QUESTION: ANSWER: Let's start!                           \n",
       "</pre>\n"
      ],
      "text/plain": [
       "Here are some examples of real user questions, you will be judged by how well you match this distribution.         \n",
       "\n",
       "\u001b[33m───────────────────────────────────────────────────────────────────────────────────────────────────────────────────\u001b[0m\n",
       "{QUESTIONS}                                                                                                        \n",
       "\n",
       "\u001b[33m───────────────────────────────────────────────────────────────────────────────────────────────────────────────────\u001b[0m\n",
       "In the next step, you will read a fragment of ICP documentation. This will serve as inspiration for synthetic user \n",
       "question and the source of the answer. Here is the document fragment:                                              \n",
       "\n",
       "\u001b[33m───────────────────────────────────────────────────────────────────────────────────────────────────────────────────\u001b[0m\n",
       "{CHUNK}                                                                                                            \n",
       "\n",
       "\u001b[33m───────────────────────────────────────────────────────────────────────────────────────────────────────────────────\u001b[0m\n",
       "You will now generate a user question and corresponding answer based on the above document. First, explain the user\n",
       "context and what problems they might be trying to solve. Second, generate user question. Third, provide the        \n",
       "accurate and concise answer in markdown format to the user question using the documentation. You'll be evaluated   \n",
       "on:                                                                                                                \n",
       "\n",
       "\u001b[1;33m • \u001b[0mhow realistic is that this question will come from a real user one day?                                         \n",
       "\u001b[1;33m • \u001b[0mis this question about ICP?                                                                                     \n",
       "\u001b[1;33m • \u001b[0mcan the question be answered using the ICP document fragment above?                                             \n",
       "\u001b[1;33m • \u001b[0mhow accurate is the answer? Remember that users have different styles and can be imprecise. You are very good at\n",
       "\u001b[1;33m   \u001b[0mimpersonating them! Use the following format: CONTEXT: QUESTION: ANSWER: Let's start!                           \n"
      ]
     },
     "execution_count": 26,
     "metadata": {},
     "output_type": "execute_result"
    }
   ],
   "source": [
    "Markdown(prompt_template)"
   ]
  },
  {
   "cell_type": "code",
   "execution_count": 27,
   "metadata": {},
   "outputs": [
    {
     "name": "stdout",
     "output_type": "stream",
     "text": [
      "('\"How can I debug and troubleshoot issues with smart contracts on the '\n",
      " 'Internet Computer Platform (ICP)?\"\\n'\n",
      " '\"Is there a recommended approach or library for handling user authentication '\n",
      " 'on the ICP platform?\"\\n'\n",
      " '\"What are the best practices for developing smart contracts on the ICP '\n",
      " 'platform?\"')\n"
     ]
    }
   ],
   "source": [
    "def generate_context_prompt(chunk, n_questions=3):\n",
    "    questions = '\\n'.join(random.sample(user_questions, n_questions))\n",
    "    pprint(questions)\n",
    "    user_prompt = prompt_template.format(QUESTIONS=questions, CHUNK=chunk)\n",
    "\n",
    "    return user_prompt\n",
    "\n",
    "user_prompt = generate_context_prompt(chunk)"
   ]
  },
  {
   "cell_type": "code",
   "execution_count": 28,
   "metadata": {},
   "outputs": [
    {
     "data": {
      "text/html": [
       "<pre style=\"white-space:pre;overflow-x:auto;line-height:normal;font-family:Menlo,'DejaVu Sans Mono',consolas,'Courier New',monospace\">Here are some examples of real user questions, you will be judged by how well you match this distribution.         \n",
       "\n",
       "<span style=\"color: #808000; text-decoration-color: #808000\">───────────────────────────────────────────────────────────────────────────────────────────────────────────────────</span>\n",
       "\"How can I debug and troubleshoot issues with smart contracts on the Internet Computer Platform (ICP)?\" \"Is there a\n",
       "recommended approach or library for handling user authentication on the ICP platform?\" \"What are the best practices\n",
       "for developing smart contracts on the ICP platform?\"                                                               \n",
       "\n",
       "<span style=\"color: #808000; text-decoration-color: #808000\">───────────────────────────────────────────────────────────────────────────────────────────────────────────────────</span>\n",
       "In the next step, you will read a fragment of ICP documentation. This will serve as inspiration for synthetic user \n",
       "question and the source of the answer. Here is the document fragment:                                              \n",
       "\n",
       "<span style=\"color: #808000; text-decoration-color: #808000\">───────────────────────────────────────────────────────────────────────────────────────────────────────────────────</span>\n",
       "to create a new <span style=\"color: #008080; text-decoration-color: #008080; background-color: #000000; font-weight: bold\">Proposal</span> (which has been factored out by the helper <span style=\"color: #008080; text-decoration-color: #008080; background-color: #000000; font-weight: bold\">makeProposal</span>). Note that our <span style=\"color: #008080; text-decoration-color: #008080; background-color: #000000; font-weight: bold\">proposals</span> array is\n",
       "mutable, so we must first <span style=\"color: #008080; text-decoration-color: #008080; background-color: #000000; font-weight: bold\">freeze</span> the current array before appending our new <span style=\"color: #008080; text-decoration-color: #008080; background-color: #000000; font-weight: bold\">Proposal</span>. Finally, we <span style=\"color: #008080; text-decoration-color: #008080; background-color: #000000; font-weight: bold\">thaw</span> the array   \n",
       "before resetting the value of <span style=\"color: #008080; text-decoration-color: #008080; background-color: #000000; font-weight: bold\">proposals</span>.                                                                           \n",
       "\n",
       "<span style=\"color: #008080; text-decoration-color: #008080; background-color: #000000; font-weight: bold\">checkProposal</span> checks if the given proposal has exceeded its <span style=\"color: #008080; text-decoration-color: #008080; background-color: #000000; font-weight: bold\">ttl</span>, and, if so, runs the necessary calculation to     \n",
       "determine if the proposal status should switch to <span style=\"color: #008080; text-decoration-color: #008080; background-color: #000000; font-weight: bold\">#succeeded</span> or <span style=\"color: #008080; text-decoration-color: #008080; background-color: #000000; font-weight: bold\">#defeated</span>. We have created <span style=\"color: #008080; text-decoration-color: #008080; background-color: #000000; font-weight: bold\">checkProposal</span> and       \n",
       "<span style=\"color: #008080; text-decoration-color: #008080; background-color: #000000; font-weight: bold\">_checkProposal</span> to allow this function to both be used within the <span style=\"color: #008080; text-decoration-color: #008080; background-color: #000000; font-weight: bold\">Governor</span> canister (as a helper in <span style=\"color: #008080; text-decoration-color: #008080; background-color: #000000; font-weight: bold\">voteOnProposal</span>) \n",
       "and for external canister calls. <span style=\"color: #008080; text-decoration-color: #008080; background-color: #000000; font-weight: bold\">checkProposal</span> is for external calls (hence the <span style=\"color: #008080; text-decoration-color: #008080; background-color: #000000; font-weight: bold\">async</span> result) while <span style=\"color: #008080; text-decoration-color: #008080; background-color: #000000; font-weight: bold\">_checkProposal</span> \n",
       "is for internal canister use only.                                                                                 \n",
       "\n",
       "The <span style=\"color: #008080; text-decoration-color: #008080; background-color: #000000; font-weight: bold\">migrate</span> method performs the canister migration by replacing <span style=\"color: #008080; text-decoration-color: #008080; background-color: #000000; font-weight: bold\">currentApp</span> (which stores the canister of the       \n",
       "current App for our auction system) with the Principal provided in the passed proposal. This only occurs once a    \n",
       "proposal has been voted on and passes the desired threshold.                                                       \n",
       "\n",
       "                                                   <span style=\"font-weight: bold\">Specification</span>                                                   \n",
       "\n",
       "<span style=\"font-weight: bold\">Task:</span> Complete the implementation of the <span style=\"color: #008080; text-decoration-color: #008080; background-color: #000000; font-weight: bold\">cancelProposal</span> and <span style=\"color: #008080; text-decoration-color: #008080; background-color: #000000; font-weight: bold\">voteOnProposal</span> methods in <span style=\"color: #008080; text-decoration-color: #008080; background-color: #000000; font-weight: bold\">Governor.mo</span>.                 \n",
       "\n",
       "<span style=\"color: #008080; text-decoration-color: #008080; background-color: #000000; font-weight: bold\">cancelProposal</span> enables the proposal owner or the <span style=\"color: #008080; text-decoration-color: #008080; background-color: #000000; font-weight: bold\">Governor</span> owner to cancel an active proposal                       \n",
       "\n",
       "<span style=\"color: #808000; text-decoration-color: #808000; font-weight: bold\"> • </span><span style=\"color: #008080; text-decoration-color: #008080; background-color: #000000; font-weight: bold\">cancelProposal</span> accepts one parameter, a <span style=\"color: #008080; text-decoration-color: #008080; background-color: #000000; font-weight: bold\">propNum</span>, which represents the index of the proposal in the <span style=\"color: #008080; text-decoration-color: #008080; background-color: #000000; font-weight: bold\">proposals</span>    \n",
       "<span style=\"color: #808000; text-decoration-color: #808000; font-weight: bold\">   </span>list                                                                                                            \n",
       "<span style=\"color: #808000; text-decoration-color: #808000; font-weight: bold\"> • </span>First, check that the <span style=\"color: #008080; text-decoration-color: #008080; background-color: #000000; font-weight: bold\">propNum</span> is a valid index (that it doesn't reference an out-of-bound index location based  \n",
       "<span style=\"color: #808000; text-decoration-color: #808000; font-weight: bold\">   </span>on the size of <span style=\"color: #008080; text-decoration-color: #008080; background-color: #000000; font-weight: bold\">proposals</span>)                                                                                       \n",
       "<span style=\"color: #808000; text-decoration-color: #808000; font-weight: bold\">    • </span>If not, return the <span style=\"color: #008080; text-decoration-color: #008080; background-color: #000000; font-weight: bold\">#proposalNotFound</span> error (defined in <span style=\"color: #008080; text-decoration-color: #008080; background-color: #000000; font-weight: bold\">Types.mo</span>)                                             \n",
       "<span style=\"color: #808000; text-decoration-color: #808000; font-weight: bold\"> • </span>We then want to ensure that the canister calling <span style=\"color: #008080; text-decoration-color: #008080; background-color: #000000; font-weight: bold\">cancelProposal</span> is either the owner of the proposal or the owner\n",
       "<span style=\"color: #808000; text-decoration-color: #808000; font-weight: bold\">   </span>of the entire <span style=\"color: #008080; text-decoration-color: #008080; background-color: #000000; font-weight: bold\">Governor</span> canister                                                                                 \n",
       "<span style=\"color: #808000; text-decoration-color: #808000; font-weight: bold\">    • </span>If not, return the <span style=\"color: #008080; text-decoration-color: #008080; background-color: #000000; font-weight: bold\">incorrectPermissions</span> error                                                                \n",
       "<span style=\"color: #808000; text-decoration-color: #808000; font-weight: bold\">    • </span>Remember that we can access the caller of a method by querying the <span style=\"color: #008080; text-decoration-color: #008080; background-color: #000000; font-weight: bold\">caller</span> field of our <span style=\"color: #008080; text-decoration-color: #008080; background-color: #000000; font-weight: bold\">msg</span> record with       \n",
       "<span style=\"color: #808000; text-decoration-color: #808000; font-weight: bold\">      </span><span style=\"color: #008080; text-decoration-color: #008080; background-color: #000000; font-weight: bold\">msg.caller</span>                                                                                                   \n",
       "<span style=\"color: #808000; text-decoration-color: #808000; font-weight: bold\"> • </span>Finally, check that the proposals's current status is <span style=\"color: #008080; text-decoration-color: #008080; background-color: #000000; font-weight: bold\">active</span>. If so, change it to <span style=\"color: #008080; text-decoration-color: #008080; background-color: #000000; font-weight: bold\">#canceled</span> and return <span style=\"color: #008080; text-decoration-color: #008080; background-color: #000000; font-weight: bold\">#ok()</span>    \n",
       "<span style=\"color: #808000; text-decoration-color: #808000; font-weight: bold\">    • </span>If it is anything other than active, return the <span style=\"color: #008080; text-decoration-color: #008080; background-color: #000000; font-weight: bold\">#proposalNotActive</span> error                                     \n",
       "\n",
       "<span style=\"color: #008080; text-decoration-color: #008080; background-color: #000000; font-weight: bold\">voteOnProposal</span> allows stakeholders to vote for or against an active proposal                                       \n",
       "\n",
       "<span style=\"color: #808000; text-decoration-color: #808000; font-weight: bold\"> • </span>Accepts two parameters: <span style=\"color: #008080; text-decoration-color: #008080; background-color: #000000; font-weight: bold\">propNum</span>, which represents the index of the proposal in the <span style=\"color: #008080; text-decoration-color: #008080; background-color: #000000; font-weight: bold\">proposals</span> list, and <span style=\"color: #008080; text-decoration-color: #008080; background-color: #000000; font-weight: bold\">vote</span>,    \n",
       "<span style=\"color: #808000; text-decoration-color: #808000; font-weight: bold\">   </span>which is a vote for the corresponding proposal (which must be the variant type <span style=\"color: #008080; text-decoration-color: #008080; background-color: #000000; font-weight: bold\">Vote</span>)                            \n",
       "<span style=\"color: #808000; text-decoration-color: #808000; font-weight: bold\"> • </span>You must first check if the proposal is active (i.e. that it hasn't exceeded its time to live, or <span style=\"color: #008080; text-decoration-color: #008080; background-color: #000000; font-weight: bold\">ttl</span>) by       \n",
       "<span style=\"color: #808000; text-decoration-color: #808000; font-weight: bold\">   </span>calling <span style=\"color: #008080; text-decoration-color: #008080; background-color: #000000; font-weight: bold\">_checkProposal</span>                                                                                          \n",
       "<span style=\"color: #808000; text-decoration-color: #808000; font-weight: bold\">    • </span>If <span style=\"color: #008080; text-decoration-color: #008080; background-color: #000000; font-weight: bold\">_checkProposal</span> throws an error, be sure to return that same error for <span style=\"color: #008080; text-decoration-color: #008080; background-color: #000000; font-weight: bold\">voteOnProposal</span> as well              \n",
       "<span style=\"color: #808000; text-decoration-color: #808000; font-weight: bold\"> • </span><span style=\"color: #008080; text-decoration-color: #008080; background-color: #000000; font-weight: bold\">_checkProposal</span> returns the status of the proposal that you passed in, so you must condition on this status      \n",
       "<span style=\"color: #808000; text-decoration-color: #808000; font-weight: bold\">    • </span>If the proposal is active, then increment either the <span style=\"color: #008080; text-decoration-color: #008080; background-color: #000000; font-weight: bold\">votesFor</span> or <span style=\"color: #008080; text-decoration-color: #008080; background-color: #000000; font-weight: bold\">votesAgainst</span> attributes of the given        \n",
       "<span style=\"color: #808000; text-decoration-color: #808000; font-weight: bold\">      </span>proposal depending on the <span style=\"color: #008080; text-decoration-color: #008080; background-color: #000000; font-weight: bold\">vote</span> that was cast                                                                 \n",
       "<span style=\"color: #808000; text-decoration-color: #808000; font-weight: bold\">    • </span>Otherwise, return the <span style=\"color: #008080; text-decoration-color: #008080; background-color: #000000; font-weight: bold\">#proposalNotActive</span> error                                                               \n",
       "\n",
       "                                                      <span style=\"font-weight: bold\">Testing</span>                                                      \n",
       "\n",
       "Take a look at the <a href=\"https://sdk.dfinity.org/docs/quickstart/quickstart.html\" target=\"_blank\"><span style=\"color: #000080; text-decoration-color: #000080; text-decoration: underline\">Developer Quick Start Guide</span></a> if you'd like a quick refresher on how to run programs on a         \n",
       "locally-deployed IC network.                                                                                       \n",
       "\n",
       "Follow these steps to deploy your canisters and launch the front end. If you run into any issues, reference the    \n",
       "<span style=\"font-weight: bold\">Quick Start Guide</span>, linked above,  for a more in-depth walkthrough.                                                 \n",
       "\n",
       "<span style=\"color: #808000; text-decoration-color: #808000; font-weight: bold\"> 1 </span>Ensure that your dfx version matches the version shown in the <span style=\"color: #008080; text-decoration-color: #008080; background-color: #000000; font-weight: bold\">dfx.json</span> file by running the following command:   \n",
       "<span style=\"color: #808000; text-decoration-color: #808000; font-weight: bold\">   </span><span style=\"background-color: #272822\">                                                                                                                </span>\n",
       "<span style=\"color: #808000; text-decoration-color: #808000; font-weight: bold\">   </span><span style=\"background-color: #272822\"> </span><span style=\"color: #f8f8f2; text-decoration-color: #f8f8f2; background-color: #272822\">dfx --version</span><span style=\"background-color: #272822\">                                                                                                  </span>\n",
       "<span style=\"color: #808000; text-decoration-color: #808000; font-weight: bold\">   </span><span style=\"background-color: #272822\">                                                                                                                </span>\n",
       "<span style=\"color: #808000; text-decoration-color: #808000; font-weight: bold\">   </span>You should see something along the lines of:                                                                    \n",
       "<span style=\"color: #808000; text-decoration-color: #808000; font-weight: bold\">   </span><span style=\"background-color: #272822\">                                                                                                                </span>\n",
       "<span style=\"color: #808000; text-decoration-color: #808000; font-weight: bold\">   </span><span style=\"background-color: #272822\"> </span><span style=\"color: #f8f8f2; text-decoration-color: #f8f8f2; background-color: #272822\">dfx 0.6.14</span><span style=\"background-color: #272822\">                                                                                                     </span>\n",
       "<span style=\"color: #808000; text-decoration-color: #808000; font-weight: bold\">   </span><span style=\"background-color: #272822\">                                                                                                                </span>\n",
       "<span style=\"color: #808000; text-decoration-color: #808000; font-weight: bold\">   </span>If your dfx version doesn't match that of the <span style=\"color: #008080; text-decoration-color: #008080; background-color: #000000; font-weight: bold\">dfx.json</span> file, see the <a href=\"https://sdk.dfinity.org/docs/developers-guide/install-upgrade-remove.html#install-version\" target=\"_blank\"><span style=\"color: #000080; text-decoration-color: #000080; text-decoration: underline\">this guide</span></a> for help in changing it.        \n",
       "<span style=\"color: #808000; text-decoration-color: #808000; font-weight: bold\"> 2 </span>Open a second terminal window (so you can start and view network operations without conflicting with the        \n",
       "<span style=\"color: #808000; text-decoration-color: #808000; font-weight: bold\">   </span>management of your project) and navigate to the same <span style=\"color: #008080; text-decoration-color: #008080; background-color: #000000; font-weight: bold\">\\web-development</span> directory.                                \n",
       "<span style=\"color: #808000; text-decoration-color: #808000; font-weight: bold\">   </span>In this new window, run:                                                                                        \n",
       "<span style=\"color: #808000; text-decoration-color: #808000; font-weight: bold\">   </span><span style=\"background-color: #272822\">                                                                                                                </span>\n",
       "<span style=\"color: #808000; text-decoration-color: #808000; font-weight: bold\">   </span><span style=\"background-color: #272822\"> </span><span style=\"color: #f8f8f2; text-decoration-color: #f8f8f2; background-color: #272822\">dfx start</span><span style=\"background-color: #272822\">                                                                                                      </span>\n",
       "<span style=\"color: #808000; text-decoration-color: #808000; font-weight: bold\">   </span><span style=\"background-color: #272822\">                                                                                                                </span>\n",
       "<span style=\"color: #808000; text-decoration-color: #808000; font-weight: bold\"> 3 </span>Navigate back to your main terminal window (also in the <span style=\"color: #008080; text-decoration-color: #008080; background-color: #000000; font-weight: bold\">\\web-development</span> directory) and ensure that you have    \n",
       "<span style=\"color: #808000; text-decoration-color: #808000; font-weight: bold\">   </span><span style=\"color: #008080; text-decoration-color: #008080; background-color: #000000; font-weight: bold\">node</span> modules available by running:                                                                              \n",
       "<span style=\"color: #808000; text-decoration-color: #808000; font-weight: bold\">   </span><span style=\"background-color: #272822\">                                                                                                                </span>\n",
       "<span style=\"color: #808000; text-decoration-color: #808000; font-weight: bold\">   </span><span style=\"background-color: #272822\"> </span><span style=\"color: #f8f8f2; text-decoration-color: #f8f8f2; background-color: #272822\">npm install</span><span style=\"background-color: #272822\">                                                                                                    </span>\n",
       "<span style=\"color: #808000; text-decoration-color: #808000; font-weight: bold\">   </span><span style=\"background-color: #272822\">                                                                                                                </span>\n",
       "<span style=\"color: #808000; text-decoration-color: #808000; font-weight: bold\"> 4 </span>Finally, execute:                                                                                               \n",
       "<span style=\"color: #808000; text-decoration-color: #808000; font-weight: bold\">   </span><span style=\"background-color: #272822\">                                                                                                                </span>\n",
       "<span style=\"color: #808000; text-decoration-color: #808000; font-weight: bold\">   </span><span style=\"background-color: #272822\">                                                                                                                </span>\n",
       "<span style=\"color: #808000; text-decoration-color: #808000; font-weight: bold\">   </span><span style=\"background-color: #272822\">                                                                                                                </span>\n",
       "\n",
       "<span style=\"color: #808000; text-decoration-color: #808000\">───────────────────────────────────────────────────────────────────────────────────────────────────────────────────</span>\n",
       "You will now generate a user question and corresponding answer based on the above document. First, explain the user\n",
       "context and what problems they might be trying to solve. Second, generate user question. Third, provide the        \n",
       "accurate and concise answer in markdown format to the user question using the documentation. You'll be evaluated   \n",
       "on:                                                                                                                \n",
       "\n",
       "<span style=\"color: #808000; text-decoration-color: #808000; font-weight: bold\"> • </span>how realistic is that this question will come from a real user one day?                                         \n",
       "<span style=\"color: #808000; text-decoration-color: #808000; font-weight: bold\"> • </span>is this question about ICP?                                                                                     \n",
       "<span style=\"color: #808000; text-decoration-color: #808000; font-weight: bold\"> • </span>can the question be answered using the ICP document fragment above?                                             \n",
       "<span style=\"color: #808000; text-decoration-color: #808000; font-weight: bold\"> • </span>how accurate is the answer? Remember that users have different styles and can be imprecise. You are very good at\n",
       "<span style=\"color: #808000; text-decoration-color: #808000; font-weight: bold\">   </span>impersonating them! Use the following format: CONTEXT: QUESTION: ANSWER: Let's start!                           \n",
       "</pre>\n"
      ],
      "text/plain": [
       "Here are some examples of real user questions, you will be judged by how well you match this distribution.         \n",
       "\n",
       "\u001b[33m───────────────────────────────────────────────────────────────────────────────────────────────────────────────────\u001b[0m\n",
       "\"How can I debug and troubleshoot issues with smart contracts on the Internet Computer Platform (ICP)?\" \"Is there a\n",
       "recommended approach or library for handling user authentication on the ICP platform?\" \"What are the best practices\n",
       "for developing smart contracts on the ICP platform?\"                                                               \n",
       "\n",
       "\u001b[33m───────────────────────────────────────────────────────────────────────────────────────────────────────────────────\u001b[0m\n",
       "In the next step, you will read a fragment of ICP documentation. This will serve as inspiration for synthetic user \n",
       "question and the source of the answer. Here is the document fragment:                                              \n",
       "\n",
       "\u001b[33m───────────────────────────────────────────────────────────────────────────────────────────────────────────────────\u001b[0m\n",
       "to create a new \u001b[1;36;40mProposal\u001b[0m (which has been factored out by the helper \u001b[1;36;40mmakeProposal\u001b[0m). Note that our \u001b[1;36;40mproposals\u001b[0m array is\n",
       "mutable, so we must first \u001b[1;36;40mfreeze\u001b[0m the current array before appending our new \u001b[1;36;40mProposal\u001b[0m. Finally, we \u001b[1;36;40mthaw\u001b[0m the array   \n",
       "before resetting the value of \u001b[1;36;40mproposals\u001b[0m.                                                                           \n",
       "\n",
       "\u001b[1;36;40mcheckProposal\u001b[0m checks if the given proposal has exceeded its \u001b[1;36;40mttl\u001b[0m, and, if so, runs the necessary calculation to     \n",
       "determine if the proposal status should switch to \u001b[1;36;40m#succeeded\u001b[0m or \u001b[1;36;40m#defeated\u001b[0m. We have created \u001b[1;36;40mcheckProposal\u001b[0m and       \n",
       "\u001b[1;36;40m_checkProposal\u001b[0m to allow this function to both be used within the \u001b[1;36;40mGovernor\u001b[0m canister (as a helper in \u001b[1;36;40mvoteOnProposal\u001b[0m) \n",
       "and for external canister calls. \u001b[1;36;40mcheckProposal\u001b[0m is for external calls (hence the \u001b[1;36;40masync\u001b[0m result) while \u001b[1;36;40m_checkProposal\u001b[0m \n",
       "is for internal canister use only.                                                                                 \n",
       "\n",
       "The \u001b[1;36;40mmigrate\u001b[0m method performs the canister migration by replacing \u001b[1;36;40mcurrentApp\u001b[0m (which stores the canister of the       \n",
       "current App for our auction system) with the Principal provided in the passed proposal. This only occurs once a    \n",
       "proposal has been voted on and passes the desired threshold.                                                       \n",
       "\n",
       "                                                   \u001b[1mSpecification\u001b[0m                                                   \n",
       "\n",
       "\u001b[1mTask:\u001b[0m Complete the implementation of the \u001b[1;36;40mcancelProposal\u001b[0m and \u001b[1;36;40mvoteOnProposal\u001b[0m methods in \u001b[1;36;40mGovernor.mo\u001b[0m.                 \n",
       "\n",
       "\u001b[1;36;40mcancelProposal\u001b[0m enables the proposal owner or the \u001b[1;36;40mGovernor\u001b[0m owner to cancel an active proposal                       \n",
       "\n",
       "\u001b[1;33m • \u001b[0m\u001b[1;36;40mcancelProposal\u001b[0m accepts one parameter, a \u001b[1;36;40mpropNum\u001b[0m, which represents the index of the proposal in the \u001b[1;36;40mproposals\u001b[0m    \n",
       "\u001b[1;33m   \u001b[0mlist                                                                                                            \n",
       "\u001b[1;33m • \u001b[0mFirst, check that the \u001b[1;36;40mpropNum\u001b[0m is a valid index (that it doesn't reference an out-of-bound index location based  \n",
       "\u001b[1;33m   \u001b[0mon the size of \u001b[1;36;40mproposals\u001b[0m)                                                                                       \n",
       "\u001b[1;33m   \u001b[0m\u001b[1;33m • \u001b[0mIf not, return the \u001b[1;36;40m#proposalNotFound\u001b[0m error (defined in \u001b[1;36;40mTypes.mo\u001b[0m)                                             \n",
       "\u001b[1;33m • \u001b[0mWe then want to ensure that the canister calling \u001b[1;36;40mcancelProposal\u001b[0m is either the owner of the proposal or the owner\n",
       "\u001b[1;33m   \u001b[0mof the entire \u001b[1;36;40mGovernor\u001b[0m canister                                                                                 \n",
       "\u001b[1;33m   \u001b[0m\u001b[1;33m • \u001b[0mIf not, return the \u001b[1;36;40mincorrectPermissions\u001b[0m error                                                                \n",
       "\u001b[1;33m   \u001b[0m\u001b[1;33m • \u001b[0mRemember that we can access the caller of a method by querying the \u001b[1;36;40mcaller\u001b[0m field of our \u001b[1;36;40mmsg\u001b[0m record with       \n",
       "\u001b[1;33m   \u001b[0m\u001b[1;33m   \u001b[0m\u001b[1;36;40mmsg.caller\u001b[0m                                                                                                   \n",
       "\u001b[1;33m • \u001b[0mFinally, check that the proposals's current status is \u001b[1;36;40mactive\u001b[0m. If so, change it to \u001b[1;36;40m#canceled\u001b[0m and return \u001b[1;36;40m#ok()\u001b[0m    \n",
       "\u001b[1;33m   \u001b[0m\u001b[1;33m • \u001b[0mIf it is anything other than active, return the \u001b[1;36;40m#proposalNotActive\u001b[0m error                                     \n",
       "\n",
       "\u001b[1;36;40mvoteOnProposal\u001b[0m allows stakeholders to vote for or against an active proposal                                       \n",
       "\n",
       "\u001b[1;33m • \u001b[0mAccepts two parameters: \u001b[1;36;40mpropNum\u001b[0m, which represents the index of the proposal in the \u001b[1;36;40mproposals\u001b[0m list, and \u001b[1;36;40mvote\u001b[0m,    \n",
       "\u001b[1;33m   \u001b[0mwhich is a vote for the corresponding proposal (which must be the variant type \u001b[1;36;40mVote\u001b[0m)                            \n",
       "\u001b[1;33m • \u001b[0mYou must first check if the proposal is active (i.e. that it hasn't exceeded its time to live, or \u001b[1;36;40mttl\u001b[0m) by       \n",
       "\u001b[1;33m   \u001b[0mcalling \u001b[1;36;40m_checkProposal\u001b[0m                                                                                          \n",
       "\u001b[1;33m   \u001b[0m\u001b[1;33m • \u001b[0mIf \u001b[1;36;40m_checkProposal\u001b[0m throws an error, be sure to return that same error for \u001b[1;36;40mvoteOnProposal\u001b[0m as well              \n",
       "\u001b[1;33m • \u001b[0m\u001b[1;36;40m_checkProposal\u001b[0m returns the status of the proposal that you passed in, so you must condition on this status      \n",
       "\u001b[1;33m   \u001b[0m\u001b[1;33m • \u001b[0mIf the proposal is active, then increment either the \u001b[1;36;40mvotesFor\u001b[0m or \u001b[1;36;40mvotesAgainst\u001b[0m attributes of the given        \n",
       "\u001b[1;33m   \u001b[0m\u001b[1;33m   \u001b[0mproposal depending on the \u001b[1;36;40mvote\u001b[0m that was cast                                                                 \n",
       "\u001b[1;33m   \u001b[0m\u001b[1;33m • \u001b[0mOtherwise, return the \u001b[1;36;40m#proposalNotActive\u001b[0m error                                                               \n",
       "\n",
       "                                                      \u001b[1mTesting\u001b[0m                                                      \n",
       "\n",
       "Take a look at the \u001b]8;id=305448;https://sdk.dfinity.org/docs/quickstart/quickstart.html\u001b\\\u001b[4;34mDeveloper Quick Start Guide\u001b[0m\u001b]8;;\u001b\\ if you'd like a quick refresher on how to run programs on a         \n",
       "locally-deployed IC network.                                                                                       \n",
       "\n",
       "Follow these steps to deploy your canisters and launch the front end. If you run into any issues, reference the    \n",
       "\u001b[1mQuick Start Guide\u001b[0m, linked above,  for a more in-depth walkthrough.                                                 \n",
       "\n",
       "\u001b[1;33m 1 \u001b[0mEnsure that your dfx version matches the version shown in the \u001b[1;36;40mdfx.json\u001b[0m file by running the following command:   \n",
       "\u001b[1;33m   \u001b[0m\u001b[48;2;39;40;34m                                                                                                                \u001b[0m\n",
       "\u001b[1;33m   \u001b[0m\u001b[48;2;39;40;34m \u001b[0m\u001b[38;2;248;248;242;48;2;39;40;34mdfx --version\u001b[0m\u001b[48;2;39;40;34m                                                                                                 \u001b[0m\u001b[48;2;39;40;34m \u001b[0m\n",
       "\u001b[1;33m   \u001b[0m\u001b[48;2;39;40;34m                                                                                                                \u001b[0m\n",
       "\u001b[1;33m   \u001b[0mYou should see something along the lines of:                                                                    \n",
       "\u001b[1;33m   \u001b[0m\u001b[48;2;39;40;34m                                                                                                                \u001b[0m\n",
       "\u001b[1;33m   \u001b[0m\u001b[48;2;39;40;34m \u001b[0m\u001b[38;2;248;248;242;48;2;39;40;34mdfx 0.6.14\u001b[0m\u001b[48;2;39;40;34m                                                                                                    \u001b[0m\u001b[48;2;39;40;34m \u001b[0m\n",
       "\u001b[1;33m   \u001b[0m\u001b[48;2;39;40;34m                                                                                                                \u001b[0m\n",
       "\u001b[1;33m   \u001b[0mIf your dfx version doesn't match that of the \u001b[1;36;40mdfx.json\u001b[0m file, see the \u001b]8;id=821228;https://sdk.dfinity.org/docs/developers-guide/install-upgrade-remove.html#install-version\u001b\\\u001b[4;34mthis guide\u001b[0m\u001b]8;;\u001b\\ for help in changing it.        \n",
       "\u001b[1;33m 2 \u001b[0mOpen a second terminal window (so you can start and view network operations without conflicting with the        \n",
       "\u001b[1;33m   \u001b[0mmanagement of your project) and navigate to the same \u001b[1;36;40m\\web-development\u001b[0m directory.                                \n",
       "\u001b[1;33m   \u001b[0mIn this new window, run:                                                                                        \n",
       "\u001b[1;33m   \u001b[0m\u001b[48;2;39;40;34m                                                                                                                \u001b[0m\n",
       "\u001b[1;33m   \u001b[0m\u001b[48;2;39;40;34m \u001b[0m\u001b[38;2;248;248;242;48;2;39;40;34mdfx start\u001b[0m\u001b[48;2;39;40;34m                                                                                                     \u001b[0m\u001b[48;2;39;40;34m \u001b[0m\n",
       "\u001b[1;33m   \u001b[0m\u001b[48;2;39;40;34m                                                                                                                \u001b[0m\n",
       "\u001b[1;33m 3 \u001b[0mNavigate back to your main terminal window (also in the \u001b[1;36;40m\\web-development\u001b[0m directory) and ensure that you have    \n",
       "\u001b[1;33m   \u001b[0m\u001b[1;36;40mnode\u001b[0m modules available by running:                                                                              \n",
       "\u001b[1;33m   \u001b[0m\u001b[48;2;39;40;34m                                                                                                                \u001b[0m\n",
       "\u001b[1;33m   \u001b[0m\u001b[48;2;39;40;34m \u001b[0m\u001b[38;2;248;248;242;48;2;39;40;34mnpm install\u001b[0m\u001b[48;2;39;40;34m                                                                                                   \u001b[0m\u001b[48;2;39;40;34m \u001b[0m\n",
       "\u001b[1;33m   \u001b[0m\u001b[48;2;39;40;34m                                                                                                                \u001b[0m\n",
       "\u001b[1;33m 4 \u001b[0mFinally, execute:                                                                                               \n",
       "\u001b[1;33m   \u001b[0m\u001b[48;2;39;40;34m                                                                                                                \u001b[0m\n",
       "\u001b[1;33m   \u001b[0m\u001b[48;2;39;40;34m \u001b[0m\u001b[48;2;39;40;34m                                                                                                              \u001b[0m\u001b[48;2;39;40;34m \u001b[0m\n",
       "\u001b[1;33m   \u001b[0m\u001b[48;2;39;40;34m                                                                                                                \u001b[0m\n",
       "\n",
       "\u001b[33m───────────────────────────────────────────────────────────────────────────────────────────────────────────────────\u001b[0m\n",
       "You will now generate a user question and corresponding answer based on the above document. First, explain the user\n",
       "context and what problems they might be trying to solve. Second, generate user question. Third, provide the        \n",
       "accurate and concise answer in markdown format to the user question using the documentation. You'll be evaluated   \n",
       "on:                                                                                                                \n",
       "\n",
       "\u001b[1;33m • \u001b[0mhow realistic is that this question will come from a real user one day?                                         \n",
       "\u001b[1;33m • \u001b[0mis this question about ICP?                                                                                     \n",
       "\u001b[1;33m • \u001b[0mcan the question be answered using the ICP document fragment above?                                             \n",
       "\u001b[1;33m • \u001b[0mhow accurate is the answer? Remember that users have different styles and can be imprecise. You are very good at\n",
       "\u001b[1;33m   \u001b[0mimpersonating them! Use the following format: CONTEXT: QUESTION: ANSWER: Let's start!                           \n"
      ]
     },
     "execution_count": 28,
     "metadata": {},
     "output_type": "execute_result"
    }
   ],
   "source": [
    "Markdown(user_prompt)"
   ]
  },
  {
   "cell_type": "code",
   "execution_count": 29,
   "metadata": {},
   "outputs": [],
   "source": [
    "def generate_questions(documents, n_questions=3, n_generations=5):\n",
    "    questions = []\n",
    "    for _, document in documents:\n",
    "        chunk = extract_random_chunk(document)\n",
    "        user_prompt = generate_context_prompt(chunk, n_questions)\n",
    "        messages=[\n",
    "            {\"role\": \"system\", \"content\": system_prompt},\n",
    "            {\"role\": \"user\", \"content\": user_prompt},\n",
    "        ]\n",
    "        response = completion_with_backoff(\n",
    "            model=MODEL_NAME,\n",
    "            messages=messages,\n",
    "            n = n_generations,\n",
    "            )\n",
    "        questions.extend([response.choices[i].message.content for i in range(n_generations)])\n",
    "    return questions"
   ]
  },
  {
   "attachments": {},
   "cell_type": "markdown",
   "metadata": {},
   "source": [
    "> A Note about the `system` role: For GPT4 based pipelines you probably want to move some part of the context prompt to the `system` context. As we are using `gpt3.5-turbo` here, you can put the instruction on the user prompt, you can read more about this on [OpenAI docs here](https://platform.openai.com/docs/guides/chat/instructing-chat-models)"
   ]
  },
  {
   "cell_type": "code",
   "execution_count": 30,
   "metadata": {},
   "outputs": [],
   "source": [
    "# function to parse model generation and extract CONTEXT, QUESTION and ANSWER\n",
    "def parse_generation(generation):\n",
    "    lines = generation.split(\"\\n\")\n",
    "    context = []\n",
    "    question = []\n",
    "    answer = []\n",
    "    flag = None\n",
    "    \n",
    "    for line in lines:\n",
    "        if \"CONTEXT:\" in line:\n",
    "            flag = \"context\"\n",
    "            line = line.replace(\"CONTEXT:\", \"\").strip()\n",
    "        elif \"QUESTION:\" in line:\n",
    "            flag = \"question\"\n",
    "            line = line.replace(\"QUESTION:\", \"\").strip()\n",
    "        elif \"ANSWER:\" in line:\n",
    "            flag = \"answer\"\n",
    "            line = line.replace(\"ANSWER:\", \"\").strip()\n",
    "\n",
    "        if flag == \"context\":\n",
    "            context.append(line)\n",
    "        elif flag == \"question\":\n",
    "            question.append(line)\n",
    "        elif flag == \"answer\":\n",
    "            answer.append(line)\n",
    "\n",
    "    context = \"\\n\".join(context)\n",
    "    question = \"\\n\".join(question)\n",
    "    answer = \"\\n\".join(answer)\n",
    "    return context, question, answer"
   ]
  },
  {
   "cell_type": "code",
   "execution_count": 31,
   "metadata": {},
   "outputs": [
    {
     "name": "stdout",
     "output_type": "stream",
     "text": [
      "('\"Is there a recommended approach or library for handling user authentication '\n",
      " 'on the ICP platform?\"\\n'\n",
      " '\"What are the best practices for developing smart contracts on the ICP '\n",
      " 'platform?\"\\n'\n",
      " '\"Can you provide guidance on how to securely deploy and access canister '\n",
      " 'smart contracts on the Internet Computer Platform (ICP)?\"')\n"
     ]
    },
    {
     "data": {
      "text/plain": [
       "('A user is working on implementing a governance canister on the ICP platform. They have gone through the documentation and are now trying to understand how to cancel an active proposal.\\n',\n",
       " 'How can I cancel an active proposal on the governance canister?\\n',\n",
       " 'To cancel an active proposal on the governance canister, you can use the `cancelProposal` method. This method accepts one parameter, `propNum`, which represents the index of the proposal in the `proposals` list. You need to ensure that the `propNum` is a valid index and does not reference an out-of-bound index location. Additionally, the canister calling the `cancelProposal` method should be either the owner of the proposal or the owner of the entire `Governor` canister. If these conditions are not met, you will encounter errors.')"
      ]
     },
     "execution_count": 31,
     "metadata": {},
     "output_type": "execute_result"
    }
   ],
   "source": [
    "generations = generate_questions([documents[0]], n_questions=3, n_generations=5)\n",
    "parse_generation(generations[0])"
   ]
  },
  {
   "cell_type": "code",
   "execution_count": 32,
   "metadata": {},
   "outputs": [
    {
     "name": "stdout",
     "output_type": "stream",
     "text": [
      "('\"What are the best practices for developing smart contracts on the ICP '\n",
      " 'platform?\"\\n'\n",
      " '\"Is there a recommended approach or library for handling user authentication '\n",
      " 'on the ICP platform?\"\\n'\n",
      " '\"Can you provide guidance on how to securely deploy and access canister '\n",
      " 'smart contracts on the Internet Computer Platform (ICP)?\"')\n",
      "('\"Is there a recommended approach or library for handling user authentication '\n",
      " 'on the ICP platform?\"\\n'\n",
      " '\"How can I ensure the security of smart contract code on the Internet '\n",
      " 'Computer Platform (ICP) before deployment?\"\\n'\n",
      " '\"How can I debug and troubleshoot issues with smart contracts on the '\n",
      " 'Internet Computer Platform (ICP)?\"')\n",
      "('\"Can you provide guidance on how to securely deploy and access canister '\n",
      " 'smart contracts on the Internet Computer Platform (ICP)?\"\\n'\n",
      " '\"How can I debug and troubleshoot issues with smart contracts on the '\n",
      " 'Internet Computer Platform (ICP)?\"\\n'\n",
      " '\"What are the best practices for developing smart contracts on the ICP '\n",
      " 'platform?\"')\n",
      "('\"Is there a recommended approach or library for handling user authentication '\n",
      " 'on the ICP platform?\"\\n'\n",
      " '\"How can I debug and troubleshoot issues with smart contracts on the '\n",
      " 'Internet Computer Platform (ICP)?\"\\n'\n",
      " '\"Can you provide guidance on how to securely deploy and access canister '\n",
      " 'smart contracts on the Internet Computer Platform (ICP)?\"')\n",
      "('\"How can I debug and troubleshoot issues with smart contracts on the '\n",
      " 'Internet Computer Platform (ICP)?\"\\n'\n",
      " '\"How can I ensure the security of smart contract code on the Internet '\n",
      " 'Computer Platform (ICP) before deployment?\"\\n'\n",
      " '\"Is there a recommended approach or library for handling user authentication '\n",
      " 'on the ICP platform?\"')\n"
     ]
    },
    {
     "data": {
      "text/plain": [
       "<Artifact generated_examples>"
      ]
     },
     "execution_count": 32,
     "metadata": {},
     "output_type": "execute_result"
    }
   ],
   "source": [
    "parsed_generations = []\n",
    "generations = generate_questions(documents, n_questions=3, n_generations=5)\n",
    "for generation in generations:\n",
    "    context, question, answer = parse_generation(generation)\n",
    "    parsed_generations.append({\"context\": context, \"question\": question, \"answer\": answer})\n",
    "\n",
    "# let's convert parsed_generations to a pandas dataframe and save it locally\n",
    "df = pd.DataFrame(parsed_generations)\n",
    "df.to_csv('generated_examples.csv', index=False)\n",
    "\n",
    "# log df as a table to W&B for interactive exploration\n",
    "wandb.log({\"generated_examples\": wandb.Table(dataframe=df)})\n",
    "\n",
    "# log csv file as an artifact to W&B for later use\n",
    "artifact = wandb.Artifact(\"generated_examples\", type=\"dataset\")\n",
    "artifact.add_file(\"generated_examples.csv\")\n",
    "wandb.log_artifact(artifact)"
   ]
  },
  {
   "cell_type": "code",
   "execution_count": 33,
   "metadata": {},
   "outputs": [
    {
     "data": {
      "text/html": [
       "Waiting for W&B process to finish... <strong style=\"color:green\">(success).</strong>"
      ],
      "text/plain": [
       "<IPython.core.display.HTML object>"
      ]
     },
     "metadata": {},
     "output_type": "display_data"
    },
    {
     "data": {
      "text/html": [
       "<style>\n",
       "    table.wandb td:nth-child(1) { padding: 0 10px; text-align: left ; width: auto;} td:nth-child(2) {text-align: left ; width: 100%}\n",
       "    .wandb-row { display: flex; flex-direction: row; flex-wrap: wrap; justify-content: flex-start; width: 100% }\n",
       "    .wandb-col { display: flex; flex-direction: column; flex-basis: 100%; flex: 1; padding: 10px; }\n",
       "    </style>\n",
       "<div class=\"wandb-row\"><div class=\"wandb-col\"><h3>Run history:</h3><br/><table class=\"wandb\"><tr><td>usage/completion_tokens</td><td>▁▁▂██▇▇█▇</td></tr><tr><td>usage/elapsed_time</td><td>▁▁▁▁▁▁▁▁▁</td></tr><tr><td>usage/prompt_tokens</td><td>▁▁▆███▄██</td></tr><tr><td>usage/total_tokens</td><td>▁▁▅██▇▅█▇</td></tr></table><br/></div><div class=\"wandb-col\"><h3>Run summary:</h3><br/><table class=\"wandb\"><tr><td>usage/completion_tokens</td><td>1061</td></tr><tr><td>usage/elapsed_time</td><td>0.0</td></tr><tr><td>usage/prompt_tokens</td><td>1412</td></tr><tr><td>usage/total_tokens</td><td>2473</td></tr></table><br/></div></div>"
      ],
      "text/plain": [
       "<IPython.core.display.HTML object>"
      ]
     },
     "metadata": {},
     "output_type": "display_data"
    },
    {
     "data": {
      "text/html": [
       " View run <strong style=\"color:#cdcd00\">charmed-star-59</strong> at: <a href='https://wandb.ai/carlek/llmapps/runs/4zg3az9n' target=\"_blank\">https://wandb.ai/carlek/llmapps/runs/4zg3az9n</a><br/> View job at <a href='https://wandb.ai/carlek/llmapps/jobs/QXJ0aWZhY3RDb2xsZWN0aW9uOjkwOTA5OTQw/version_details/v2' target=\"_blank\">https://wandb.ai/carlek/llmapps/jobs/QXJ0aWZhY3RDb2xsZWN0aW9uOjkwOTA5OTQw/version_details/v2</a><br/>Synced 5 W&B file(s), 10 media file(s), 13 artifact file(s) and 0 other file(s)"
      ],
      "text/plain": [
       "<IPython.core.display.HTML object>"
      ]
     },
     "metadata": {},
     "output_type": "display_data"
    },
    {
     "data": {
      "text/html": [
       "Find logs at: <code>./wandb/run-20231012_154657-4zg3az9n/logs</code>"
      ],
      "text/plain": [
       "<IPython.core.display.HTML object>"
      ]
     },
     "metadata": {},
     "output_type": "display_data"
    }
   ],
   "source": [
    "wandb.finish()"
   ]
  }
 ],
 "metadata": {
  "accelerator": "GPU",
  "colab": {
   "include_colab_link": true,
   "provenance": [],
   "toc_visible": true
  },
  "kernelspec": {
   "display_name": "Python 3 (ipykernel)",
   "language": "python",
   "name": "python3"
  },
  "language_info": {
   "codemirror_mode": {
    "name": "ipython",
    "version": 3
   },
   "file_extension": ".py",
   "mimetype": "text/x-python",
   "name": "python",
   "nbconvert_exporter": "python",
   "pygments_lexer": "ipython3",
   "version": "3.11.4"
  }
 },
 "nbformat": 4,
 "nbformat_minor": 4
}
